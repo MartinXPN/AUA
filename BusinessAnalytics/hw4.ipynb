{
 "cells": [
  {
   "cell_type": "code",
   "execution_count": 1,
   "metadata": {},
   "outputs": [],
   "source": [
    "import numpy as np\n",
    "import pandas as pd\n",
    "import matplotlib.pyplot as plt\n",
    "import seaborn as sns\n",
    "import graphviz\n",
    "from sklearn.tree import DecisionTreeClassifier\n",
    "from sklearn.model_selection import train_test_split\n",
    "from sklearn.tree import export_graphviz\n",
    "from sklearn.metrics import classification_report\n",
    "from  sklearn.metrics import roc_auc_score, roc_curve\n",
    "import scikitplot as skplt\n",
    "\n",
    "%matplotlib notebook"
   ]
  },
  {
   "cell_type": "code",
   "execution_count": 2,
   "metadata": {},
   "outputs": [],
   "source": [
    "data = pd.read_excel(\"Telecom_Churn.xlsx\")"
   ]
  },
  {
   "cell_type": "code",
   "execution_count": 3,
   "metadata": {},
   "outputs": [
    {
     "name": "stdout",
     "output_type": "stream",
     "text": [
      "<class 'pandas.core.frame.DataFrame'>\n",
      "RangeIndex: 3333 entries, 0 to 3332\n",
      "Data columns (total 21 columns):\n",
      "Account Length    3333 non-null int64\n",
      "VMail Message     3333 non-null int64\n",
      "Day Mins          3333 non-null float64\n",
      "Eve Mins          3333 non-null float64\n",
      "Night Mins        3333 non-null float64\n",
      "Intl Mins         3333 non-null float64\n",
      "CustServ Calls    3333 non-null int64\n",
      "Churn             3333 non-null int64\n",
      "Int'l Plan        3333 non-null int64\n",
      "VMail Plan        3333 non-null int64\n",
      "Day Calls         3333 non-null int64\n",
      "Day Charge        3333 non-null float64\n",
      "Eve Calls         3333 non-null int64\n",
      "Eve Charge        3333 non-null float64\n",
      "Night Calls       3333 non-null int64\n",
      "Night Charge      3333 non-null float64\n",
      "Intl Calls        3333 non-null int64\n",
      "Intl Charge       3333 non-null float64\n",
      "State             3333 non-null object\n",
      "Area Code         3333 non-null int64\n",
      "Phone             3333 non-null object\n",
      "dtypes: float64(8), int64(11), object(2)\n",
      "memory usage: 546.9+ KB\n"
     ]
    }
   ],
   "source": [
    "data.info() # As we can see there are no non-objects in the data\n",
    "            # 3333 entries"
   ]
  },
  {
   "cell_type": "code",
   "execution_count": 4,
   "metadata": {},
   "outputs": [
    {
     "data": {
      "text/html": [
       "<div>\n",
       "<style scoped>\n",
       "    .dataframe tbody tr th:only-of-type {\n",
       "        vertical-align: middle;\n",
       "    }\n",
       "\n",
       "    .dataframe tbody tr th {\n",
       "        vertical-align: top;\n",
       "    }\n",
       "\n",
       "    .dataframe thead th {\n",
       "        text-align: right;\n",
       "    }\n",
       "</style>\n",
       "<table border=\"1\" class=\"dataframe\">\n",
       "  <thead>\n",
       "    <tr style=\"text-align: right;\">\n",
       "      <th></th>\n",
       "      <th>Account Length</th>\n",
       "      <th>VMail Message</th>\n",
       "      <th>Day Mins</th>\n",
       "      <th>Eve Mins</th>\n",
       "      <th>Night Mins</th>\n",
       "      <th>Intl Mins</th>\n",
       "      <th>CustServ Calls</th>\n",
       "      <th>Churn</th>\n",
       "      <th>Int'l Plan</th>\n",
       "      <th>VMail Plan</th>\n",
       "      <th>...</th>\n",
       "      <th>Day Charge</th>\n",
       "      <th>Eve Calls</th>\n",
       "      <th>Eve Charge</th>\n",
       "      <th>Night Calls</th>\n",
       "      <th>Night Charge</th>\n",
       "      <th>Intl Calls</th>\n",
       "      <th>Intl Charge</th>\n",
       "      <th>State</th>\n",
       "      <th>Area Code</th>\n",
       "      <th>Phone</th>\n",
       "    </tr>\n",
       "  </thead>\n",
       "  <tbody>\n",
       "    <tr>\n",
       "      <th>0</th>\n",
       "      <td>128</td>\n",
       "      <td>25</td>\n",
       "      <td>265.1</td>\n",
       "      <td>197.4</td>\n",
       "      <td>244.7</td>\n",
       "      <td>10.0</td>\n",
       "      <td>1</td>\n",
       "      <td>0</td>\n",
       "      <td>0</td>\n",
       "      <td>1</td>\n",
       "      <td>...</td>\n",
       "      <td>45.07</td>\n",
       "      <td>99</td>\n",
       "      <td>16.78</td>\n",
       "      <td>91</td>\n",
       "      <td>11.01</td>\n",
       "      <td>3</td>\n",
       "      <td>2.70</td>\n",
       "      <td>KS</td>\n",
       "      <td>415</td>\n",
       "      <td>382-4657</td>\n",
       "    </tr>\n",
       "    <tr>\n",
       "      <th>1</th>\n",
       "      <td>107</td>\n",
       "      <td>26</td>\n",
       "      <td>161.6</td>\n",
       "      <td>195.5</td>\n",
       "      <td>254.4</td>\n",
       "      <td>13.7</td>\n",
       "      <td>1</td>\n",
       "      <td>0</td>\n",
       "      <td>0</td>\n",
       "      <td>1</td>\n",
       "      <td>...</td>\n",
       "      <td>27.47</td>\n",
       "      <td>103</td>\n",
       "      <td>16.62</td>\n",
       "      <td>103</td>\n",
       "      <td>11.45</td>\n",
       "      <td>3</td>\n",
       "      <td>3.70</td>\n",
       "      <td>OH</td>\n",
       "      <td>415</td>\n",
       "      <td>371-7191</td>\n",
       "    </tr>\n",
       "    <tr>\n",
       "      <th>2</th>\n",
       "      <td>137</td>\n",
       "      <td>0</td>\n",
       "      <td>243.4</td>\n",
       "      <td>121.2</td>\n",
       "      <td>162.6</td>\n",
       "      <td>12.2</td>\n",
       "      <td>0</td>\n",
       "      <td>0</td>\n",
       "      <td>0</td>\n",
       "      <td>0</td>\n",
       "      <td>...</td>\n",
       "      <td>41.38</td>\n",
       "      <td>110</td>\n",
       "      <td>10.30</td>\n",
       "      <td>104</td>\n",
       "      <td>7.32</td>\n",
       "      <td>5</td>\n",
       "      <td>3.29</td>\n",
       "      <td>NJ</td>\n",
       "      <td>415</td>\n",
       "      <td>358-1921</td>\n",
       "    </tr>\n",
       "    <tr>\n",
       "      <th>3</th>\n",
       "      <td>84</td>\n",
       "      <td>0</td>\n",
       "      <td>299.4</td>\n",
       "      <td>61.9</td>\n",
       "      <td>196.9</td>\n",
       "      <td>6.6</td>\n",
       "      <td>2</td>\n",
       "      <td>0</td>\n",
       "      <td>1</td>\n",
       "      <td>0</td>\n",
       "      <td>...</td>\n",
       "      <td>50.90</td>\n",
       "      <td>88</td>\n",
       "      <td>5.26</td>\n",
       "      <td>89</td>\n",
       "      <td>8.86</td>\n",
       "      <td>7</td>\n",
       "      <td>1.78</td>\n",
       "      <td>OH</td>\n",
       "      <td>408</td>\n",
       "      <td>375-9999</td>\n",
       "    </tr>\n",
       "    <tr>\n",
       "      <th>4</th>\n",
       "      <td>75</td>\n",
       "      <td>0</td>\n",
       "      <td>166.7</td>\n",
       "      <td>148.3</td>\n",
       "      <td>186.9</td>\n",
       "      <td>10.1</td>\n",
       "      <td>3</td>\n",
       "      <td>0</td>\n",
       "      <td>1</td>\n",
       "      <td>0</td>\n",
       "      <td>...</td>\n",
       "      <td>28.34</td>\n",
       "      <td>122</td>\n",
       "      <td>12.61</td>\n",
       "      <td>121</td>\n",
       "      <td>8.41</td>\n",
       "      <td>3</td>\n",
       "      <td>2.73</td>\n",
       "      <td>OK</td>\n",
       "      <td>415</td>\n",
       "      <td>330-6626</td>\n",
       "    </tr>\n",
       "  </tbody>\n",
       "</table>\n",
       "<p>5 rows × 21 columns</p>\n",
       "</div>"
      ],
      "text/plain": [
       "   Account Length  VMail Message  Day Mins  Eve Mins  Night Mins  Intl Mins  \\\n",
       "0             128             25     265.1     197.4       244.7       10.0   \n",
       "1             107             26     161.6     195.5       254.4       13.7   \n",
       "2             137              0     243.4     121.2       162.6       12.2   \n",
       "3              84              0     299.4      61.9       196.9        6.6   \n",
       "4              75              0     166.7     148.3       186.9       10.1   \n",
       "\n",
       "   CustServ Calls  Churn  Int'l Plan  VMail Plan  ...  Day Charge  Eve Calls  \\\n",
       "0               1      0           0           1  ...       45.07         99   \n",
       "1               1      0           0           1  ...       27.47        103   \n",
       "2               0      0           0           0  ...       41.38        110   \n",
       "3               2      0           1           0  ...       50.90         88   \n",
       "4               3      0           1           0  ...       28.34        122   \n",
       "\n",
       "   Eve Charge  Night Calls  Night Charge  Intl Calls  Intl Charge  State  \\\n",
       "0       16.78           91         11.01           3         2.70     KS   \n",
       "1       16.62          103         11.45           3         3.70     OH   \n",
       "2       10.30          104          7.32           5         3.29     NJ   \n",
       "3        5.26           89          8.86           7         1.78     OH   \n",
       "4       12.61          121          8.41           3         2.73     OK   \n",
       "\n",
       "  Area Code     Phone  \n",
       "0       415  382-4657  \n",
       "1       415  371-7191  \n",
       "2       415  358-1921  \n",
       "3       408  375-9999  \n",
       "4       415  330-6626  \n",
       "\n",
       "[5 rows x 21 columns]"
      ]
     },
     "execution_count": 4,
     "metadata": {},
     "output_type": "execute_result"
    }
   ],
   "source": [
    "data.head()"
   ]
  },
  {
   "cell_type": "code",
   "execution_count": 5,
   "metadata": {},
   "outputs": [
    {
     "data": {
      "text/plain": [
       "Account Length    False\n",
       "VMail Message     False\n",
       "Day Mins          False\n",
       "Eve Mins          False\n",
       "Night Mins        False\n",
       "Intl Mins         False\n",
       "CustServ Calls    False\n",
       "Churn             False\n",
       "Int'l Plan        False\n",
       "VMail Plan        False\n",
       "Day Calls         False\n",
       "Day Charge        False\n",
       "Eve Calls         False\n",
       "Eve Charge        False\n",
       "Night Calls       False\n",
       "Night Charge      False\n",
       "Intl Calls        False\n",
       "Intl Charge       False\n",
       "Area Code         False\n",
       "dtype: bool"
      ]
     },
     "execution_count": 5,
     "metadata": {},
     "output_type": "execute_result"
    }
   ],
   "source": [
    "data.var()==0 # No variable with variance = 0 => we may keep all of them"
   ]
  },
  {
   "cell_type": "code",
   "execution_count": 6,
   "metadata": {
    "scrolled": false
   },
   "outputs": [
    {
     "data": {
      "text/plain": [
       "Account Length     212\n",
       "VMail Message       46\n",
       "Day Mins          1667\n",
       "Eve Mins          1611\n",
       "Night Mins        1591\n",
       "Intl Mins          162\n",
       "CustServ Calls      10\n",
       "Churn                2\n",
       "Int'l Plan           2\n",
       "VMail Plan           2\n",
       "Day Calls          119\n",
       "Day Charge        1667\n",
       "Eve Calls          123\n",
       "Eve Charge        1440\n",
       "Night Calls        120\n",
       "Night Charge       933\n",
       "Intl Calls          21\n",
       "Intl Charge        162\n",
       "State               51\n",
       "Area Code            3\n",
       "Phone             3333\n",
       "dtype: int64"
      ]
     },
     "execution_count": 6,
     "metadata": {},
     "output_type": "execute_result"
    }
   ],
   "source": [
    "data.nunique()"
   ]
  },
  {
   "cell_type": "code",
   "execution_count": 7,
   "metadata": {},
   "outputs": [
    {
     "data": {
      "text/plain": [
       "<matplotlib.axes._subplots.AxesSubplot at 0x115a246a0>"
      ]
     },
     "execution_count": 7,
     "metadata": {},
     "output_type": "execute_result"
    },
    {
     "data": {
      "image/png": "[encoded data removed]",
      "text/plain": [
       "<Figure size 648x576 with 2 Axes>"
      ]
     },
     "metadata": {
      "needs_background": "light"
     },
     "output_type": "display_data"
    }
   ],
   "source": [
    "plt.subplots(figsize=(9,8))\n",
    "sns.heatmap(data.corr().abs().round(1),annot=True)"
   ]
  },
  {
   "cell_type": "code",
   "execution_count": 8,
   "metadata": {},
   "outputs": [],
   "source": [
    "# Get rid of the variables having 1 correlation\n",
    "# Also get rid of the phone variable as it is unique and doesn't provide any insight\n",
    "# But keep the state (also object variable)\n",
    "data.drop([\"VMail Message\", \"Day Mins\", \"Eve Mins\", \"Intl Mins\", \"Night Mins\",\"Phone\"],axis=1, inplace = True)"
   ]
  },
  {
   "cell_type": "code",
   "execution_count": 9,
   "metadata": {},
   "outputs": [],
   "source": [
    "# Convert state to dummy\n",
    "data = pd.get_dummies(data, drop_first=True)"
   ]
  },
  {
   "cell_type": "code",
   "execution_count": 10,
   "metadata": {},
   "outputs": [
    {
     "data": {
      "text/plain": [
       "(3333, 64)"
      ]
     },
     "execution_count": 10,
     "metadata": {},
     "output_type": "execute_result"
    }
   ],
   "source": [
    "data.shape"
   ]
  },
  {
   "cell_type": "code",
   "execution_count": 11,
   "metadata": {},
   "outputs": [],
   "source": [
    "X = data.drop(\"Churn\", axis=1)\n",
    "Y = data.Churn"
   ]
  },
  {
   "cell_type": "code",
   "execution_count": 12,
   "metadata": {},
   "outputs": [
    {
     "data": {
      "image/png": "[encoded data removed]",
      "text/plain": [
       "<Figure size 432x288 with 1 Axes>"
      ]
     },
     "metadata": {
      "needs_background": "light"
     },
     "output_type": "display_data"
    }
   ],
   "source": [
    "plt.figure()\n",
    "_ = plt.hist(Y)"
   ]
  },
  {
   "cell_type": "code",
   "execution_count": 13,
   "metadata": {},
   "outputs": [],
   "source": [
    "# As we can see there is some class imbalance"
   ]
  },
  {
   "cell_type": "code",
   "execution_count": 14,
   "metadata": {},
   "outputs": [],
   "source": [
    "x_train,x_test,y_train,y_test=train_test_split(X, Y, test_size=0.3, random_state=42)"
   ]
  },
  {
   "cell_type": "markdown",
   "metadata": {},
   "source": [
    "## Decision tree"
   ]
  },
  {
   "cell_type": "code",
   "execution_count": 15,
   "metadata": {},
   "outputs": [
    {
     "data": {
      "text/plain": [
       "DecisionTreeClassifier(class_weight=None, criterion='gini', max_depth=None,\n",
       "            max_features=None, max_leaf_nodes=None,\n",
       "            min_impurity_decrease=0.0, min_impurity_split=None,\n",
       "            min_samples_leaf=1, min_samples_split=2,\n",
       "            min_weight_fraction_leaf=0.0, presort=False, random_state=42,\n",
       "            splitter='best')"
      ]
     },
     "execution_count": 15,
     "metadata": {},
     "output_type": "execute_result"
    }
   ],
   "source": [
    "tree = DecisionTreeClassifier(random_state=42)\n",
    "tree.fit(x_train, y_train)"
   ]
  },
  {
   "cell_type": "code",
   "execution_count": 16,
   "metadata": {},
   "outputs": [
    {
     "name": "stdout",
     "output_type": "stream",
     "text": [
      "Accuracy_Train: 100.0\n",
      "Accuracy_Test: 92.5\n",
      "ROC AUC Train: 100.0\n",
      "ROC AUC Test: 83.97197901281915\n"
     ]
    }
   ],
   "source": [
    "print(\"Accuracy_Train:\",tree.score(x_train,y_train)*100)\n",
    "print(\"Accuracy_Test:\",tree.score(x_test,y_test)*100)\n",
    "print(\"ROC AUC Train:\",roc_auc_score(y_train,tree.predict(x_train))*100)\n",
    "print(\"ROC AUC Test:\",roc_auc_score(y_test,tree.predict(x_test))*100)"
   ]
  },
  {
   "cell_type": "code",
   "execution_count": 17,
   "metadata": {},
   "outputs": [],
   "source": [
    "# Huge overfitting => lets prune the model while training"
   ]
  },
  {
   "cell_type": "code",
   "execution_count": 18,
   "metadata": {},
   "outputs": [
    {
     "data": {
      "text/plain": [
       "DecisionTreeClassifier(class_weight=None, criterion='gini', max_depth=5,\n",
       "            max_features=None, max_leaf_nodes=None,\n",
       "            min_impurity_decrease=0.0, min_impurity_split=None,\n",
       "            min_samples_leaf=1, min_samples_split=2,\n",
       "            min_weight_fraction_leaf=0.0, presort=False, random_state=42,\n",
       "            splitter='best')"
      ]
     },
     "execution_count": 18,
     "metadata": {},
     "output_type": "execute_result"
    }
   ],
   "source": [
    "tree = DecisionTreeClassifier(random_state=42, max_depth=5)\n",
    "tree.fit(x_train, y_train)"
   ]
  },
  {
   "cell_type": "code",
   "execution_count": 19,
   "metadata": {},
   "outputs": [
    {
     "name": "stdout",
     "output_type": "stream",
     "text": [
      "Accuracy_Train: 95.1993141877411\n",
      "Accuracy_Test: 93.4\n",
      "ROC AUC Train: 85.48094802396623\n",
      "ROC AUC Test: 81.58399360266338\n"
     ]
    }
   ],
   "source": [
    "print(\"Accuracy_Train:\",tree.score(x_train,y_train)*100)\n",
    "print(\"Accuracy_Test:\",tree.score(x_test,y_test)*100)\n",
    "print(\"ROC AUC Train:\",roc_auc_score(y_train,tree.predict(x_train))*100)\n",
    "print(\"ROC AUC Test:\",roc_auc_score(y_test,tree.predict(x_test))*100)\n",
    "# Much better"
   ]
  },
  {
   "cell_type": "code",
   "execution_count": 20,
   "metadata": {},
   "outputs": [
    {
     "name": "stdout",
     "output_type": "stream",
     "text": [
      "Train:               precision    recall  f1-score   support\n",
      "\n",
      "           0       0.94      0.98      0.96       857\n",
      "           1       0.85      0.65      0.74       143\n",
      "\n",
      "   micro avg       0.93      0.93      0.93      1000\n",
      "   macro avg       0.90      0.82      0.85      1000\n",
      "weighted avg       0.93      0.93      0.93      1000\n",
      "\n"
     ]
    }
   ],
   "source": [
    "print(\"Train:\",classification_report(y_test,tree.predict(x_test)))"
   ]
  },
  {
   "cell_type": "code",
   "execution_count": 21,
   "metadata": {},
   "outputs": [],
   "source": [
    "FPR,TPR,thresholds=roc_curve(y_test,tree.predict_proba(x_test)[:,1])"
   ]
  },
  {
   "cell_type": "code",
   "execution_count": 22,
   "metadata": {},
   "outputs": [
    {
     "data": {
      "image/png": "[encoded data removed]",
      "text/plain": [
       "<Figure size 432x288 with 1 Axes>"
      ]
     },
     "metadata": {
      "needs_background": "light"
     },
     "output_type": "display_data"
    }
   ],
   "source": [
    "plt.figure()\n",
    "plt.plot(FPR,TPR,label=\"ROC AUC=%f\"%roc_auc_score(y_test,tree.predict(x_test)))\n",
    "plt.plot([0,1],[0,1])\n",
    "plt.legend(loc=\"lower right\")\n",
    "plt.xlabel(\"FPR\")\n",
    "plt.ylabel(\"TPR\")\n",
    "plt.show()"
   ]
  },
  {
   "cell_type": "code",
   "execution_count": 23,
   "metadata": {},
   "outputs": [],
   "source": [
    "# false positive rate vs true positive rate\n",
    "# AUC close to 1 => good (1=perfect)"
   ]
  },
  {
   "cell_type": "code",
   "execution_count": 24,
   "metadata": {},
   "outputs": [
    {
     "data": {
      "text/html": [
       "<div>\n",
       "<style scoped>\n",
       "    .dataframe tbody tr th:only-of-type {\n",
       "        vertical-align: middle;\n",
       "    }\n",
       "\n",
       "    .dataframe tbody tr th {\n",
       "        vertical-align: top;\n",
       "    }\n",
       "\n",
       "    .dataframe thead th {\n",
       "        text-align: right;\n",
       "    }\n",
       "</style>\n",
       "<table border=\"1\" class=\"dataframe\">\n",
       "  <thead>\n",
       "    <tr style=\"text-align: right;\">\n",
       "      <th></th>\n",
       "      <th>Feature Importances</th>\n",
       "    </tr>\n",
       "  </thead>\n",
       "  <tbody>\n",
       "    <tr>\n",
       "      <th>Day Charge</th>\n",
       "      <td>0.300535</td>\n",
       "    </tr>\n",
       "    <tr>\n",
       "      <th>CustServ Calls</th>\n",
       "      <td>0.158061</td>\n",
       "    </tr>\n",
       "    <tr>\n",
       "      <th>Eve Charge</th>\n",
       "      <td>0.122278</td>\n",
       "    </tr>\n",
       "    <tr>\n",
       "      <th>Intl Charge</th>\n",
       "      <td>0.119492</td>\n",
       "    </tr>\n",
       "    <tr>\n",
       "      <th>Int'l Plan</th>\n",
       "      <td>0.117369</td>\n",
       "    </tr>\n",
       "    <tr>\n",
       "      <th>Intl Calls</th>\n",
       "      <td>0.084952</td>\n",
       "    </tr>\n",
       "    <tr>\n",
       "      <th>VMail Plan</th>\n",
       "      <td>0.060009</td>\n",
       "    </tr>\n",
       "    <tr>\n",
       "      <th>Night Charge</th>\n",
       "      <td>0.017957</td>\n",
       "    </tr>\n",
       "    <tr>\n",
       "      <th>Night Calls</th>\n",
       "      <td>0.006695</td>\n",
       "    </tr>\n",
       "    <tr>\n",
       "      <th>Day Calls</th>\n",
       "      <td>0.004826</td>\n",
       "    </tr>\n",
       "    <tr>\n",
       "      <th>Eve Calls</th>\n",
       "      <td>0.003944</td>\n",
       "    </tr>\n",
       "    <tr>\n",
       "      <th>State_NH</th>\n",
       "      <td>0.003883</td>\n",
       "    </tr>\n",
       "    <tr>\n",
       "      <th>State_NJ</th>\n",
       "      <td>0.000000</td>\n",
       "    </tr>\n",
       "    <tr>\n",
       "      <th>State_OH</th>\n",
       "      <td>0.000000</td>\n",
       "    </tr>\n",
       "    <tr>\n",
       "      <th>State_NY</th>\n",
       "      <td>0.000000</td>\n",
       "    </tr>\n",
       "    <tr>\n",
       "      <th>State_NV</th>\n",
       "      <td>0.000000</td>\n",
       "    </tr>\n",
       "    <tr>\n",
       "      <th>State_NM</th>\n",
       "      <td>0.000000</td>\n",
       "    </tr>\n",
       "    <tr>\n",
       "      <th>Account Length</th>\n",
       "      <td>0.000000</td>\n",
       "    </tr>\n",
       "    <tr>\n",
       "      <th>State_NE</th>\n",
       "      <td>0.000000</td>\n",
       "    </tr>\n",
       "    <tr>\n",
       "      <th>State_ND</th>\n",
       "      <td>0.000000</td>\n",
       "    </tr>\n",
       "    <tr>\n",
       "      <th>State_NC</th>\n",
       "      <td>0.000000</td>\n",
       "    </tr>\n",
       "    <tr>\n",
       "      <th>State_OR</th>\n",
       "      <td>0.000000</td>\n",
       "    </tr>\n",
       "    <tr>\n",
       "      <th>State_OK</th>\n",
       "      <td>0.000000</td>\n",
       "    </tr>\n",
       "    <tr>\n",
       "      <th>State_TX</th>\n",
       "      <td>0.000000</td>\n",
       "    </tr>\n",
       "    <tr>\n",
       "      <th>State_PA</th>\n",
       "      <td>0.000000</td>\n",
       "    </tr>\n",
       "    <tr>\n",
       "      <th>State_RI</th>\n",
       "      <td>0.000000</td>\n",
       "    </tr>\n",
       "    <tr>\n",
       "      <th>State_SC</th>\n",
       "      <td>0.000000</td>\n",
       "    </tr>\n",
       "    <tr>\n",
       "      <th>State_SD</th>\n",
       "      <td>0.000000</td>\n",
       "    </tr>\n",
       "    <tr>\n",
       "      <th>State_TN</th>\n",
       "      <td>0.000000</td>\n",
       "    </tr>\n",
       "    <tr>\n",
       "      <th>State_MS</th>\n",
       "      <td>0.000000</td>\n",
       "    </tr>\n",
       "    <tr>\n",
       "      <th>...</th>\n",
       "      <td>...</td>\n",
       "    </tr>\n",
       "    <tr>\n",
       "      <th>State_WA</th>\n",
       "      <td>0.000000</td>\n",
       "    </tr>\n",
       "    <tr>\n",
       "      <th>State_WI</th>\n",
       "      <td>0.000000</td>\n",
       "    </tr>\n",
       "    <tr>\n",
       "      <th>State_WV</th>\n",
       "      <td>0.000000</td>\n",
       "    </tr>\n",
       "    <tr>\n",
       "      <th>State_MT</th>\n",
       "      <td>0.000000</td>\n",
       "    </tr>\n",
       "    <tr>\n",
       "      <th>State_MA</th>\n",
       "      <td>0.000000</td>\n",
       "    </tr>\n",
       "    <tr>\n",
       "      <th>State_MO</th>\n",
       "      <td>0.000000</td>\n",
       "    </tr>\n",
       "    <tr>\n",
       "      <th>State_GA</th>\n",
       "      <td>0.000000</td>\n",
       "    </tr>\n",
       "    <tr>\n",
       "      <th>Area Code</th>\n",
       "      <td>0.000000</td>\n",
       "    </tr>\n",
       "    <tr>\n",
       "      <th>State_AL</th>\n",
       "      <td>0.000000</td>\n",
       "    </tr>\n",
       "    <tr>\n",
       "      <th>State_AR</th>\n",
       "      <td>0.000000</td>\n",
       "    </tr>\n",
       "    <tr>\n",
       "      <th>State_AZ</th>\n",
       "      <td>0.000000</td>\n",
       "    </tr>\n",
       "    <tr>\n",
       "      <th>State_CA</th>\n",
       "      <td>0.000000</td>\n",
       "    </tr>\n",
       "    <tr>\n",
       "      <th>State_CO</th>\n",
       "      <td>0.000000</td>\n",
       "    </tr>\n",
       "    <tr>\n",
       "      <th>State_CT</th>\n",
       "      <td>0.000000</td>\n",
       "    </tr>\n",
       "    <tr>\n",
       "      <th>State_DC</th>\n",
       "      <td>0.000000</td>\n",
       "    </tr>\n",
       "    <tr>\n",
       "      <th>State_DE</th>\n",
       "      <td>0.000000</td>\n",
       "    </tr>\n",
       "    <tr>\n",
       "      <th>State_FL</th>\n",
       "      <td>0.000000</td>\n",
       "    </tr>\n",
       "    <tr>\n",
       "      <th>State_HI</th>\n",
       "      <td>0.000000</td>\n",
       "    </tr>\n",
       "    <tr>\n",
       "      <th>State_MN</th>\n",
       "      <td>0.000000</td>\n",
       "    </tr>\n",
       "    <tr>\n",
       "      <th>State_IA</th>\n",
       "      <td>0.000000</td>\n",
       "    </tr>\n",
       "    <tr>\n",
       "      <th>State_ID</th>\n",
       "      <td>0.000000</td>\n",
       "    </tr>\n",
       "    <tr>\n",
       "      <th>State_IL</th>\n",
       "      <td>0.000000</td>\n",
       "    </tr>\n",
       "    <tr>\n",
       "      <th>State_IN</th>\n",
       "      <td>0.000000</td>\n",
       "    </tr>\n",
       "    <tr>\n",
       "      <th>State_KS</th>\n",
       "      <td>0.000000</td>\n",
       "    </tr>\n",
       "    <tr>\n",
       "      <th>State_KY</th>\n",
       "      <td>0.000000</td>\n",
       "    </tr>\n",
       "    <tr>\n",
       "      <th>State_LA</th>\n",
       "      <td>0.000000</td>\n",
       "    </tr>\n",
       "    <tr>\n",
       "      <th>State_MD</th>\n",
       "      <td>0.000000</td>\n",
       "    </tr>\n",
       "    <tr>\n",
       "      <th>State_ME</th>\n",
       "      <td>0.000000</td>\n",
       "    </tr>\n",
       "    <tr>\n",
       "      <th>State_MI</th>\n",
       "      <td>0.000000</td>\n",
       "    </tr>\n",
       "    <tr>\n",
       "      <th>State_WY</th>\n",
       "      <td>0.000000</td>\n",
       "    </tr>\n",
       "  </tbody>\n",
       "</table>\n",
       "<p>63 rows × 1 columns</p>\n",
       "</div>"
      ],
      "text/plain": [
       "                Feature Importances\n",
       "Day Charge                 0.300535\n",
       "CustServ Calls             0.158061\n",
       "Eve Charge                 0.122278\n",
       "Intl Charge                0.119492\n",
       "Int'l Plan                 0.117369\n",
       "Intl Calls                 0.084952\n",
       "VMail Plan                 0.060009\n",
       "Night Charge               0.017957\n",
       "Night Calls                0.006695\n",
       "Day Calls                  0.004826\n",
       "Eve Calls                  0.003944\n",
       "State_NH                   0.003883\n",
       "State_NJ                   0.000000\n",
       "State_OH                   0.000000\n",
       "State_NY                   0.000000\n",
       "State_NV                   0.000000\n",
       "State_NM                   0.000000\n",
       "Account Length             0.000000\n",
       "State_NE                   0.000000\n",
       "State_ND                   0.000000\n",
       "State_NC                   0.000000\n",
       "State_OR                   0.000000\n",
       "State_OK                   0.000000\n",
       "State_TX                   0.000000\n",
       "State_PA                   0.000000\n",
       "State_RI                   0.000000\n",
       "State_SC                   0.000000\n",
       "State_SD                   0.000000\n",
       "State_TN                   0.000000\n",
       "State_MS                   0.000000\n",
       "...                             ...\n",
       "State_WA                   0.000000\n",
       "State_WI                   0.000000\n",
       "State_WV                   0.000000\n",
       "State_MT                   0.000000\n",
       "State_MA                   0.000000\n",
       "State_MO                   0.000000\n",
       "State_GA                   0.000000\n",
       "Area Code                  0.000000\n",
       "State_AL                   0.000000\n",
       "State_AR                   0.000000\n",
       "State_AZ                   0.000000\n",
       "State_CA                   0.000000\n",
       "State_CO                   0.000000\n",
       "State_CT                   0.000000\n",
       "State_DC                   0.000000\n",
       "State_DE                   0.000000\n",
       "State_FL                   0.000000\n",
       "State_HI                   0.000000\n",
       "State_MN                   0.000000\n",
       "State_IA                   0.000000\n",
       "State_ID                   0.000000\n",
       "State_IL                   0.000000\n",
       "State_IN                   0.000000\n",
       "State_KS                   0.000000\n",
       "State_KY                   0.000000\n",
       "State_LA                   0.000000\n",
       "State_MD                   0.000000\n",
       "State_ME                   0.000000\n",
       "State_MI                   0.000000\n",
       "State_WY                   0.000000\n",
       "\n",
       "[63 rows x 1 columns]"
      ]
     },
     "execution_count": 24,
     "metadata": {},
     "output_type": "execute_result"
    }
   ],
   "source": [
    "feature_imp=pd.DataFrame(tree.feature_importances_,index=X.columns,columns=[\"Feature Importances\"])\n",
    "feature_imp.sort_values(by=\"Feature Importances\",ascending=False)"
   ]
  },
  {
   "cell_type": "code",
   "execution_count": 25,
   "metadata": {},
   "outputs": [],
   "source": [
    "# As we can see almost all the variables are not significant.\n",
    "# Most of the decisions are made with ~10 variables"
   ]
  },
  {
   "cell_type": "code",
   "execution_count": 26,
   "metadata": {
    "scrolled": false
   },
   "outputs": [
    {
     "name": "stdout",
     "output_type": "stream",
     "text": [
      "digraph Tree {\n",
      "node [shape=box, style=\"filled\", color=\"black\"] ;\n",
      "0 [label=\"Day Charge <= 44.805\\ngini = 0.249\\nsamples = 2333\\nvalue = [1993, 340]\\nclass = y[0]\", fillcolor=\"#e58139d3\"] ;\n",
      "1 [label=\"CustServ Calls <= 3.5\\ngini = 0.204\\nsamples = 2174\\nvalue = [1923, 251]\\nclass = y[0]\", fillcolor=\"#e58139de\"] ;\n",
      "0 -> 1 [labeldistance=2.5, labelangle=45, headlabel=\"True\"] ;\n",
      "2 [label=\"Int'l Plan <= 0.5\\ngini = 0.15\\nsamples = 2000\\nvalue = [1837, 163]\\nclass = y[0]\", fillcolor=\"#e58139e8\"] ;\n",
      "1 -> 2 ;\n",
      "3 [label=\"Day Charge <= 37.95\\ngini = 0.096\\nsamples = 1822\\nvalue = [1730, 92]\\nclass = y[0]\", fillcolor=\"#e58139f1\"] ;\n",
      "2 -> 3 ;\n",
      "4 [label=\"Eve Charge <= 29.0\\ngini = 0.056\\nsamples = 1563\\nvalue = [1518, 45]\\nclass = y[0]\", fillcolor=\"#e58139f7\"] ;\n",
      "3 -> 4 ;\n",
      "5 [label=\"gini = 0.054\\nsamples = 1557\\nvalue = [1514, 43]\\nclass = y[0]\", fillcolor=\"#e58139f8\"] ;\n",
      "4 -> 5 ;\n",
      "6 [label=\"gini = 0.444\\nsamples = 6\\nvalue = [4, 2]\\nclass = y[0]\", fillcolor=\"#e581397f\"] ;\n",
      "4 -> 6 ;\n",
      "7 [label=\"Eve Charge <= 22.67\\ngini = 0.297\\nsamples = 259\\nvalue = [212, 47]\\nclass = y[0]\", fillcolor=\"#e58139c6\"] ;\n",
      "3 -> 7 ;\n",
      "8 [label=\"gini = 0.211\\nsamples = 234\\nvalue = [206, 28]\\nclass = y[0]\", fillcolor=\"#e58139dc\"] ;\n",
      "7 -> 8 ;\n",
      "9 [label=\"gini = 0.365\\nsamples = 25\\nvalue = [6, 19]\\nclass = y[1]\", fillcolor=\"#399de5ae\"] ;\n",
      "7 -> 9 ;\n",
      "10 [label=\"Intl Calls <= 2.5\\ngini = 0.48\\nsamples = 178\\nvalue = [107, 71]\\nclass = y[0]\", fillcolor=\"#e5813956\"] ;\n",
      "2 -> 10 ;\n",
      "11 [label=\"gini = 0.0\\nsamples = 35\\nvalue = [0, 35]\\nclass = y[1]\", fillcolor=\"#399de5ff\"] ;\n",
      "10 -> 11 ;\n",
      "12 [label=\"Intl Charge <= 3.535\\ngini = 0.377\\nsamples = 143\\nvalue = [107, 36]\\nclass = y[0]\", fillcolor=\"#e58139a9\"] ;\n",
      "10 -> 12 ;\n",
      "13 [label=\"gini = 0.069\\nsamples = 111\\nvalue = [107, 4]\\nclass = y[0]\", fillcolor=\"#e58139f5\"] ;\n",
      "12 -> 13 ;\n",
      "14 [label=\"gini = 0.0\\nsamples = 32\\nvalue = [0, 32]\\nclass = y[1]\", fillcolor=\"#399de5ff\"] ;\n",
      "12 -> 14 ;\n",
      "15 [label=\"Day Charge <= 28.195\\ngini = 0.5\\nsamples = 174\\nvalue = [86, 88]\\nclass = y[1]\", fillcolor=\"#399de506\"] ;\n",
      "1 -> 15 ;\n",
      "16 [label=\"Eve Charge <= 22.57\\ngini = 0.221\\nsamples = 79\\nvalue = [10, 69]\\nclass = y[1]\", fillcolor=\"#399de5da\"] ;\n",
      "15 -> 16 ;\n",
      "17 [label=\"Day Charge <= 26.09\\ngini = 0.151\\nsamples = 73\\nvalue = [6, 67]\\nclass = y[1]\", fillcolor=\"#399de5e8\"] ;\n",
      "16 -> 17 ;\n",
      "18 [label=\"gini = 0.036\\nsamples = 55\\nvalue = [1, 54]\\nclass = y[1]\", fillcolor=\"#399de5fa\"] ;\n",
      "17 -> 18 ;\n",
      "19 [label=\"gini = 0.401\\nsamples = 18\\nvalue = [5, 13]\\nclass = y[1]\", fillcolor=\"#399de59d\"] ;\n",
      "17 -> 19 ;\n",
      "20 [label=\"Eve Charge <= 24.03\\ngini = 0.444\\nsamples = 6\\nvalue = [4, 2]\\nclass = y[0]\", fillcolor=\"#e581397f\"] ;\n",
      "16 -> 20 ;\n",
      "21 [label=\"gini = 0.0\\nsamples = 3\\nvalue = [3, 0]\\nclass = y[0]\", fillcolor=\"#e58139ff\"] ;\n",
      "20 -> 21 ;\n",
      "22 [label=\"gini = 0.444\\nsamples = 3\\nvalue = [1, 2]\\nclass = y[1]\", fillcolor=\"#399de57f\"] ;\n",
      "20 -> 22 ;\n",
      "23 [label=\"Eve Charge <= 12.665\\ngini = 0.32\\nsamples = 95\\nvalue = [76, 19]\\nclass = y[0]\", fillcolor=\"#e58139bf\"] ;\n",
      "15 -> 23 ;\n",
      "24 [label=\"CustServ Calls <= 4.5\\ngini = 0.49\\nsamples = 14\\nvalue = [6, 8]\\nclass = y[1]\", fillcolor=\"#399de540\"] ;\n",
      "23 -> 24 ;\n",
      "25 [label=\"gini = 0.278\\nsamples = 6\\nvalue = [5, 1]\\nclass = y[0]\", fillcolor=\"#e58139cc\"] ;\n",
      "24 -> 25 ;\n",
      "26 [label=\"gini = 0.219\\nsamples = 8\\nvalue = [1, 7]\\nclass = y[1]\", fillcolor=\"#399de5db\"] ;\n",
      "24 -> 26 ;\n",
      "27 [label=\"Night Calls <= 119.5\\ngini = 0.235\\nsamples = 81\\nvalue = [70, 11]\\nclass = y[0]\", fillcolor=\"#e58139d7\"] ;\n",
      "23 -> 27 ;\n",
      "28 [label=\"gini = 0.157\\nsamples = 70\\nvalue = [64, 6]\\nclass = y[0]\", fillcolor=\"#e58139e7\"] ;\n",
      "27 -> 28 ;\n",
      "29 [label=\"gini = 0.496\\nsamples = 11\\nvalue = [6, 5]\\nclass = y[0]\", fillcolor=\"#e581392a\"] ;\n",
      "27 -> 29 ;\n",
      "30 [label=\"VMail Plan <= 0.5\\ngini = 0.493\\nsamples = 159\\nvalue = [70, 89]\\nclass = y[1]\", fillcolor=\"#399de536\"] ;\n",
      "0 -> 30 [labeldistance=2.5, labelangle=-45, headlabel=\"False\"] ;\n",
      "31 [label=\"Eve Charge <= 15.695\\ngini = 0.4\\nsamples = 116\\nvalue = [32, 84]\\nclass = y[1]\", fillcolor=\"#399de59e\"] ;\n",
      "30 -> 31 ;\n",
      "32 [label=\"Day Charge <= 52.905\\ngini = 0.444\\nsamples = 39\\nvalue = [26, 13]\\nclass = y[0]\", fillcolor=\"#e581397f\"] ;\n",
      "31 -> 32 ;\n",
      "33 [label=\"Night Charge <= 9.465\\ngini = 0.334\\nsamples = 33\\nvalue = [26, 7]\\nclass = y[0]\", fillcolor=\"#e58139ba\"] ;\n",
      "32 -> 33 ;\n",
      "34 [label=\"gini = 0.091\\nsamples = 21\\nvalue = [20, 1]\\nclass = y[0]\", fillcolor=\"#e58139f2\"] ;\n",
      "33 -> 34 ;\n",
      "35 [label=\"gini = 0.5\\nsamples = 12\\nvalue = [6, 6]\\nclass = y[0]\", fillcolor=\"#e5813900\"] ;\n",
      "33 -> 35 ;\n",
      "36 [label=\"gini = 0.0\\nsamples = 6\\nvalue = [0, 6]\\nclass = y[1]\", fillcolor=\"#399de5ff\"] ;\n",
      "32 -> 36 ;\n",
      "37 [label=\"Night Charge <= 5.155\\ngini = 0.144\\nsamples = 77\\nvalue = [6, 71]\\nclass = y[1]\", fillcolor=\"#399de5e9\"] ;\n",
      "31 -> 37 ;\n",
      "38 [label=\"State_NH <= 0.5\\ngini = 0.375\\nsamples = 4\\nvalue = [3, 1]\\nclass = y[0]\", fillcolor=\"#e58139aa\"] ;\n",
      "37 -> 38 ;\n",
      "39 [label=\"gini = 0.0\\nsamples = 3\\nvalue = [3, 0]\\nclass = y[0]\", fillcolor=\"#e58139ff\"] ;\n",
      "38 -> 39 ;\n",
      "40 [label=\"gini = 0.0\\nsamples = 1\\nvalue = [0, 1]\\nclass = y[1]\", fillcolor=\"#399de5ff\"] ;\n",
      "38 -> 40 ;\n",
      "41 [label=\"Day Calls <= 147.5\\ngini = 0.079\\nsamples = 73\\nvalue = [3, 70]\\nclass = y[1]\", fillcolor=\"#399de5f4\"] ;\n",
      "37 -> 41 ;\n",
      "42 [label=\"gini = 0.054\\nsamples = 72\\nvalue = [2, 70]\\nclass = y[1]\", fillcolor=\"#399de5f8\"] ;\n",
      "41 -> 42 ;\n",
      "43 [label=\"gini = 0.0\\nsamples = 1\\nvalue = [1, 0]\\nclass = y[0]\", fillcolor=\"#e58139ff\"] ;\n",
      "41 -> 43 ;\n",
      "44 [label=\"Int'l Plan <= 0.5\\ngini = 0.206\\nsamples = 43\\nvalue = [38, 5]\\nclass = y[0]\", fillcolor=\"#e58139dd\"] ;\n",
      "30 -> 44 ;\n",
      "45 [label=\"gini = 0.0\\nsamples = 36\\nvalue = [36, 0]\\nclass = y[0]\", fillcolor=\"#e58139ff\"] ;\n",
      "44 -> 45 ;\n",
      "46 [label=\"Eve Calls <= 84.0\\ngini = 0.408\\nsamples = 7\\nvalue = [2, 5]\\nclass = y[1]\", fillcolor=\"#399de599\"] ;\n",
      "44 -> 46 ;\n",
      "47 [label=\"Intl Calls <= 2.5\\ngini = 0.444\\nsamples = 3\\nvalue = [2, 1]\\nclass = y[0]\", fillcolor=\"#e581397f\"] ;\n",
      "46 -> 47 ;\n",
      "48 [label=\"gini = 0.0\\nsamples = 1\\nvalue = [0, 1]\\nclass = y[1]\", fillcolor=\"#399de5ff\"] ;\n",
      "47 -> 48 ;\n",
      "49 [label=\"gini = 0.0\\nsamples = 2\\nvalue = [2, 0]\\nclass = y[0]\", fillcolor=\"#e58139ff\"] ;\n",
      "47 -> 49 ;\n",
      "50 [label=\"gini = 0.0\\nsamples = 4\\nvalue = [0, 4]\\nclass = y[1]\", fillcolor=\"#399de5ff\"] ;\n",
      "46 -> 50 ;\n",
      "}\n"
     ]
    }
   ],
   "source": [
    "tree_gr=export_graphviz(tree,out_file=\"tree.txt\", max_depth=5, class_names=True, feature_names=X.columns, filled=True)\n",
    "with open('tree.txt', 'r') as f:\n",
    "    print(f.read())"
   ]
  },
  {
   "cell_type": "markdown",
   "metadata": {},
   "source": [
    "## Gain & Lift"
   ]
  },
  {
   "cell_type": "code",
   "execution_count": 27,
   "metadata": {},
   "outputs": [
    {
     "name": "stderr",
     "output_type": "stream",
     "text": [
      "/Users/martin/Library/Python/3.7/lib/python/site-packages/matplotlib/cbook/__init__.py:424: MatplotlibDeprecationWarning: \n",
      "Passing one of 'on', 'true', 'off', 'false' as a boolean is deprecated; use an actual boolean (True/False) instead.\n",
      "  warn_deprecated(\"2.2\", \"Passing one of 'on', 'true', 'off', 'false' as a \"\n"
     ]
    },
    {
     "data": {
      "text/plain": [
       "<matplotlib.axes._subplots.AxesSubplot at 0x11834bbe0>"
      ]
     },
     "execution_count": 27,
     "metadata": {},
     "output_type": "execute_result"
    },
    {
     "data": {
      "image/png": "[encoded data removed]",
      "text/plain": [
       "<Figure size 432x288 with 1 Axes>"
      ]
     },
     "metadata": {
      "needs_background": "light"
     },
     "output_type": "display_data"
    }
   ],
   "source": [
    "skplt.metrics.plot_cumulative_gain(y_test,tree.predict_proba(x_test))"
   ]
  },
  {
   "cell_type": "code",
   "execution_count": 28,
   "metadata": {},
   "outputs": [
    {
     "name": "stderr",
     "output_type": "stream",
     "text": [
      "/Users/martin/Library/Python/3.7/lib/python/site-packages/matplotlib/cbook/__init__.py:424: MatplotlibDeprecationWarning: \n",
      "Passing one of 'on', 'true', 'off', 'false' as a boolean is deprecated; use an actual boolean (True/False) instead.\n",
      "  warn_deprecated(\"2.2\", \"Passing one of 'on', 'true', 'off', 'false' as a \"\n"
     ]
    },
    {
     "data": {
      "text/plain": [
       "<matplotlib.axes._subplots.AxesSubplot at 0x1185e2940>"
      ]
     },
     "execution_count": 28,
     "metadata": {},
     "output_type": "execute_result"
    },
    {
     "data": {
      "image/png": "[encoded data removed]",
      "text/plain": [
       "<Figure size 432x288 with 1 Axes>"
      ]
     },
     "metadata": {
      "needs_background": "light"
     },
     "output_type": "display_data"
    }
   ],
   "source": [
    "skplt.metrics.plot_lift_curve(y_test,tree.predict_proba(x_test))"
   ]
  },
  {
   "cell_type": "code",
   "execution_count": null,
   "metadata": {},
   "outputs": [],
   "source": []
  }
 ],
 "metadata": {
  "kernelspec": {
   "display_name": "Python 3",
   "language": "python",
   "name": "python3"
  },
  "language_info": {
   "codemirror_mode": {
    "name": "ipython",
    "version": 3
   },
   "file_extension": ".py",
   "mimetype": "text/x-python",
   "name": "python",
   "nbconvert_exporter": "python",
   "pygments_lexer": "ipython3",
   "version": "3.7.2"
  }
 },
 "nbformat": 4,
 "nbformat_minor": 2
}
