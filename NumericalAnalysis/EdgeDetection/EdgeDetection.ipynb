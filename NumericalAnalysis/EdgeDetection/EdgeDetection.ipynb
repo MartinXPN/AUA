{
 "cells": [
  {
   "cell_type": "markdown",
   "metadata": {},
   "source": [
    "# Edge Detection Algorithms\n",
    "\n",
    "This jupyter notebook aims to present several edge detection algorithms, show their implementation in python and make a comparison between them.\n",
    "\n",
    "Currently implemented algorithms include \n",
    "1. `First degree gradient based algorithms`: Sobel, Prewitt, Roberts, and Canny edge detectors, \n",
    "2. `Second degree gradient based algorithms`: Laplace of the gaussian, and also \n",
    "3. `Neural Network` approach which is implemented in other jupyter notebook file.\n",
    "\n",
    "In the end we compare these approaches on `BSDS500` dataset giving numerical evaluation (score) for each algorithm."
   ]
  },
  {
   "cell_type": "code",
   "execution_count": 1,
   "metadata": {},
   "outputs": [],
   "source": [
    "from scipy.signal import convolve2d\n",
    "from skimage.filters import threshold_otsu, threshold_local\n",
    "from sklearn.metrics import log_loss\n",
    "from scipy import misc\n",
    "import matplotlib.pyplot as plt\n",
    "import numpy as np\n",
    "import sys\n",
    "import os\n",
    "sys.setrecursionlimit(25000000)\n",
    "%matplotlib inline\n",
    "\n",
    "EPS = 0.0001"
   ]
  },
  {
   "cell_type": "markdown",
   "metadata": {},
   "source": [
    "### Gaussian filter\n",
    "Gaussian filter is responsible for smoothing out an image removing abrupt changes in neighbour pixels.\n",
    "\n",
    "As all gradient based algorithms are very sensitive on noise and can have a huge performance change due to fluctuations and anomalies in images, it's a reasonable decision to apply gaussian filter on images before giving them to any edge detector. We could use any smoothing filter but Gaussian is shown to work good in practice.\n",
    "\n",
    "Usually, for edge detection, people choose 5x5 gaussian filter with standard deviation=1.4, so that's why the default parameters of our function are `kernel_size=(5,5)`, `standard_deviation=1.4`"
   ]
  },
  {
   "cell_type": "code",
   "execution_count": 2,
   "metadata": {},
   "outputs": [],
   "source": [
    "def gaussian_filter(kernel_size=(5,5), standard_deviation=1.4, normalize=True):\n",
    "    \"\"\"\n",
    "    :returns 2D Gaussian mask of shape kernel_size\n",
    "    \"\"\"\n",
    "    res = np.zeros(shape=kernel_size)\n",
    "    centerI = ( kernel_size[0] - 1 ) / 2\n",
    "    centerJ = ( kernel_size[1] - 1 ) / 2\n",
    "    for i in range(kernel_size[0]):\n",
    "        for j in range(kernel_size[1]):\n",
    "            res[i][j] = np.exp( -( (i - centerI)**2. + (j - centerJ)**2. ) / ( 2. * standard_deviation**2. )) \\\n",
    "                        / ( 2. * np.pi * standard_deviation**2. )\n",
    "    \n",
    "    if normalize:\n",
    "        res /= np.sum(res)\n",
    "    return res\n",
    "\n",
    "def smooth_gaussian(input_image):\n",
    "    \"\"\"Helper function for applying gaussian filter on an input image\"\"\"\n",
    "    return convolve2d(input_image, gaussian_filter(), mode='same')"
   ]
  },
  {
   "cell_type": "markdown",
   "metadata": {},
   "source": [
    "### Thresholding mechanisms - Otsu thresholding"
   ]
  },
  {
   "cell_type": "code",
   "execution_count": 3,
   "metadata": {},
   "outputs": [],
   "source": [
    "def apply_threshold(input_image, threshold, high_value=255, low_value=0):\n",
    "    assert input_image.shape == threshold.shape\n",
    "    diff = input_image - threshold\n",
    "    \n",
    "    result = np.ones(shape=input_image.shape) * high_value\n",
    "    low_indices = diff[:,:] < 0\n",
    "    result[low_indices] = low_value\n",
    "    return result\n",
    "\n",
    "\n",
    "def basic_thresholding(input_image, threshold=70, high_value=255, low_value=0):\n",
    "    return apply_threshold(input_image, \n",
    "                           np.ones(shape=input_image.shape) * threshold, \n",
    "                           high_value, \n",
    "                           low_value)\n",
    "\n",
    "\n",
    "def global_otsu_thresholding(input_image, high_value=255, low_value=0):\n",
    "    global_thresh = threshold_otsu(input_image)\n",
    "    return apply_threshold(input_image, \n",
    "                           np.ones(shape=input_image.shape) * global_thresh, \n",
    "                           high_value, \n",
    "                           low_value)\n",
    "\n",
    "def adaptive_otsu_thresholding(input_image, high_value=255, low_value=0):\n",
    "    adaptive_thresh = threshold_local(input_image, block_size=25, offset=10)\n",
    "    return apply_threshold(input_image, adaptive_thresh, high_value, low_value)\n",
    "\n",
    "\n",
    "def double_thresholding(input_image, threshold_hight=60, threshold_low=20, high_value=255, low_value=0):\n",
    "    result = np.copy(input_image)\n",
    "    high_indices = result[:,:] > threshold_hight\n",
    "    low_indices = result[:,:] < threshold_low\n",
    "    result[high_indices] = high_value\n",
    "    result[low_indices] = low_value\n",
    "    return result"
   ]
  },
  {
   "cell_type": "code",
   "execution_count": 4,
   "metadata": {},
   "outputs": [],
   "source": [
    "class EdgeDetector(object):\n",
    "    \"\"\"\n",
    "    Base class for all edge detecting classes\n",
    "    Any edge detector should implement an abstract function run_algorithm(input_image)\n",
    "    \"\"\"\n",
    "    def __init__(self, smooth_image, apply_thresholding):\n",
    "        self.smooth_image = smooth_image\n",
    "        self.apply_thresholding = apply_thresholding\n",
    "    \n",
    "    def normalize_image(self, image):\n",
    "        \"\"\" Maps image from any range to [0;255] \"\"\"\n",
    "        image -= image.min()\n",
    "        if image.max() != 0:\n",
    "            image *= 255./image.max()\n",
    "        return image\n",
    "    \n",
    "    def detect_edges(self, input_image):\n",
    "        \"\"\"\n",
    "        Applies smoothing if it's not None\n",
    "        runs algorithm defined by a subclass\n",
    "        Applies thesholding if it's not None\n",
    "        :returns result\n",
    "        \"\"\"\n",
    "        if self.smooth_image is not None:\n",
    "            input_image = self.smooth_image(input_image)\n",
    "        \n",
    "        result = self.run_algorithm(input_image)\n",
    "        result = self.normalize_image(result)\n",
    "        \n",
    "        if self.apply_thresholding is not None:\n",
    "            result = self.apply_thresholding(result)\n",
    "        return result\n",
    "    \n",
    "    def run_algorithm(self, input_image):\n",
    "        raise NotImplementedError('Please implement this method')"
   ]
  },
  {
   "cell_type": "markdown",
   "metadata": {},
   "source": [
    "## First degree derivative based algorithms\n",
    "### Operator based Edge detectors\n",
    "As Sobel's, Prewitt's or  Robert's algortihms are based on applying a convolutional filter on the input image, they all share the same logic of processing the input. The only difference is the kernel matrix that is applied to an input image.\n",
    "\n",
    "So, lets create a base class for this kind of edge detectors `OperatorEdgeDetector`"
   ]
  },
  {
   "cell_type": "code",
   "execution_count": 5,
   "metadata": {},
   "outputs": [],
   "source": [
    "class OperatorEdgeDetector(EdgeDetector):\n",
    "    def __init__(self, filterX, filterY, smooth_image, apply_thresholding):\n",
    "        \"\"\"\n",
    "        :param filterX filter-matrix (kernel) to compute gradient on X direction\n",
    "        :param filterY filter-matrix (kernel) to compute gradient on Y direction\n",
    "        :param smooth_image a function that will smooth the image before doing any detection\n",
    "                            the default is gaussian, but it can be any function (set to None if no filtering is needed)\n",
    "        \"\"\"\n",
    "        super().__init__(smooth_image=smooth_image, apply_thresholding=apply_thresholding)\n",
    "        self.filterX = filterX\n",
    "        self.filterY = filterY\n",
    "        \n",
    "    def get_gradients(self, input_image):\n",
    "        \"\"\"\n",
    "        :returns gradients in X and Y directions\n",
    "        \"\"\"\n",
    "        gradX = convolve2d(input_image, self.filterX, mode='same') # Convolve input image with filter-matrix in X direction\n",
    "        gradY = convolve2d(input_image, self.filterY, mode='same') # Convolve input image with filter-matrix in Y direction\n",
    "        return gradX, gradY\n",
    "    \n",
    "    def run_algorithm(self, input_image):\n",
    "        \"\"\"\n",
    "        Computes gradient in X and Y directions (gradX and gradY respectively)\n",
    "        And gets the result by combining this gradients with sqrt( gradX^2 + gradY^2 )\n",
    "        :returns 2D matrix of edges \n",
    "            closer to 255 => edges are more visible\n",
    "            closer to 0 => no edges there\n",
    "        \"\"\"\n",
    "        \n",
    "        gradX, gradY = self.get_gradients(input_image)\n",
    "        result = np.sqrt( np.power(gradX, 2) + np.power(gradY, 2) )\n",
    "        return result"
   ]
  },
  {
   "cell_type": "markdown",
   "metadata": {},
   "source": [
    "### Sobel\n",
    "Sobel's edge detector is a simple convolutional filter with kernel matrix\n",
    "\n",
    "In X and Y directions respectively\n",
    "```\n",
    "-1 0 1             -1 -2 -1\n",
    "-2 0 2              0 0 0\n",
    "-1 0 1              1 2 1```"
   ]
  },
  {
   "cell_type": "code",
   "execution_count": 6,
   "metadata": {},
   "outputs": [],
   "source": [
    "class SobelEdgeDetector(OperatorEdgeDetector):\n",
    "    def __init__(self, smooth_image=smooth_gaussian, apply_thresholding=global_otsu_thresholding):\n",
    "        filterX = np.array([[-1, 0, 1],\n",
    "                            [-2, 0, 2],\n",
    "                            [-1, 0, 1]], dtype=np.float32)\n",
    "        filterY = np.array([[-1, -2, -1],\n",
    "                            [0, 0, 0],\n",
    "                            [1, 2, 1]], dtype=np.float32)\n",
    "        super().__init__(filterX=filterX, filterY=filterY, smooth_image=smooth_image, apply_thresholding=apply_thresholding)"
   ]
  },
  {
   "cell_type": "markdown",
   "metadata": {},
   "source": [
    "### Prewitt\n",
    "Prewitt's edge detector is also a simple convolutional filter with kernel matrix\n",
    "\n",
    "In X and Y directions respectively\n",
    "```\n",
    "-1 0 1             -1 -1 -1\n",
    "-1 0 1              0 0 0\n",
    "-1 0 1              1 1 1```"
   ]
  },
  {
   "cell_type": "code",
   "execution_count": 7,
   "metadata": {},
   "outputs": [],
   "source": [
    "class PrewittEdgeDetector(OperatorEdgeDetector):\n",
    "    def __init__(self, smooth_image=smooth_gaussian, apply_thresholding=global_otsu_thresholding):\n",
    "        filterX = np.array([[-1, 0, 1],\n",
    "                            [-1, 0, 1],\n",
    "                            [-1, 0, 1]], dtype=np.float32)\n",
    "        filterY = np.array([[-1, -1, -1],\n",
    "                            [0, 0, 0],\n",
    "                            [1, 1, 1]], dtype=np.float32)\n",
    "        super().__init__(filterX=filterX, filterY=filterY, smooth_image=smooth_image, apply_thresholding=apply_thresholding)"
   ]
  },
  {
   "cell_type": "markdown",
   "metadata": {},
   "source": [
    "### Robert\n",
    "Robert's edge detector is also a simple convolutional filter with kernel matrix\n",
    "\n",
    "In X and Y directions respectively\n",
    "```\n",
    "-1 0             0 -1\n",
    "0 1              1 0```"
   ]
  },
  {
   "cell_type": "code",
   "execution_count": 8,
   "metadata": {},
   "outputs": [],
   "source": [
    "class RobertsEdgeDetector(OperatorEdgeDetector):\n",
    "    def __init__(self, smooth_image=smooth_gaussian, apply_thresholding=global_otsu_thresholding):\n",
    "        filterX = np.array([[-1, 0],\n",
    "                            [0, 1]], dtype=np.float32)\n",
    "        filterY = np.array([[0, -1],\n",
    "                            [1, 0]], dtype=np.float32)\n",
    "        super().__init__(filterX=filterX, filterY=filterY, smooth_image=smooth_image, apply_thresholding=apply_thresholding)"
   ]
  },
  {
   "cell_type": "markdown",
   "metadata": {},
   "source": [
    "### Canny\n",
    "Canny edge detection algorithm is an extention of any algorithm listed above. It refines the edges found with Sobel/Prewitt/or any other gradient based edge detector.\n",
    "\n",
    "Algorithm:\n",
    "0. Apply `image smoothing` (Gaussian filter) and `compute gradients` in X and Y directions\n",
    "1. Apply `thresholding` to choose those edges that have enough intensity to consider them as a real edge and not a noise\n",
    "2. Apply `Nonmaxima Suppression` during which it compares every pixel with its neighbours along the gradient direction to make sure that it's maximum among them. If not, the pixel is set to non-edge (black).\n",
    "3. Traverse (DFS - depth first search) all edges and leave only those weak edges that are connected to a strong edges and remove all other ones."
   ]
  },
  {
   "cell_type": "code",
   "execution_count": 9,
   "metadata": {},
   "outputs": [],
   "source": [
    "class CannyEdgeDetector(EdgeDetector):\n",
    "    def __init__(self, \n",
    "                 smooth_image=smooth_gaussian, \n",
    "                 gradient_calculator=SobelEdgeDetector(), \n",
    "                 apply_thresholding=double_thresholding):\n",
    "        super().__init__(smooth_image, apply_thresholding=apply_thresholding)\n",
    "        self.gradient_calculator = gradient_calculator\n",
    "\n",
    "    def suppress_non_maxima(self, gradient, angle):\n",
    "        \n",
    "        h = gradient.shape[0]\n",
    "        w = gradient.shape[1]\n",
    "        assert(h == angle.shape[0] and w == angle.shape[1])\n",
    "        result = np.copy(gradient)\n",
    "\n",
    "        def update_result(i, j, neighbours):\n",
    "            # if gradient[i][j] is not the greatest among its neighbours => set the result to 0\n",
    "            if any([ gradient[i][j] < gradient[item_i][item_j] for (item_i, item_j) in neighbours]):\n",
    "                result[i][j] = 0\n",
    "        \n",
    "        def normalize_angle(val):\n",
    "            val = val if val > 0 else val + 2*np.pi\n",
    "            val = min([np.pi*0/4,  np.pi*1/4, np.pi*2/4, np.pi*3/4,\n",
    "                                   np.pi*4/4, np.pi*5/4, np.pi*6/4, np.pi*7/4, \n",
    "                                   np.pi*8/4], key=lambda x: abs(x-val))\n",
    "            if val == np.pi*2 or val == np.pi: val = 0\n",
    "            if val > np.pi: val -= np.pi\n",
    "            return val\n",
    "        \n",
    "        # Normalize angle to be one of the [0, pi/4, pi/2, 3pi/4]\n",
    "        for i in range(angle.shape[0]):\n",
    "            for j in range(angle.shape[1]):\n",
    "                angle[i][j] = normalize_angle( angle[i][j] )\n",
    "        \n",
    "        for i in range(1, h-1):\n",
    "            for j in range(1, w-1):\n",
    "                if abs(angle[i][j] - 0) < EPS:          update_result(i, j, [(i, j-1), (i, j+1)])\n",
    "                if abs(angle[i][j] - np.pi/4) < EPS:    update_result(i, j, [(i-1, j+1), (i+1, j-1)])\n",
    "                if abs(angle[i][j] - np.pi/2) < EPS:    update_result(i, j, [(i-1, j), (i+1, j)])\n",
    "                if abs(angle[i][j] - np.pi*3/4) < EPS:  update_result(i, j, [(i, j+1), (i+1, j+1)])\n",
    "        return result\n",
    "    \n",
    "    \n",
    "    def traverse(self, i, j, used, result):\n",
    "        if i < 0 or i >= used.shape[0]:                return\n",
    "        if j < 0 or j >= used.shape[1]:                return\n",
    "        if result[i][j] <= EPS or used[i][j] == True:  return\n",
    "        used[i][j] = True\n",
    "        result[i][j] = 255\n",
    "        for I in range(i-1, i+2):\n",
    "            for J in range(j-1, j+2):\n",
    "                self.traverse(I, J, used, result)        \n",
    "        \n",
    "    \n",
    "    def detect_edges(self, input_image):\n",
    "        # 1. Apply image smoothing if provided\n",
    "        if self.smooth_image is not None:\n",
    "            input_image = self.smooth_image(input_image)\n",
    "        \n",
    "        # 2. Compute gradients of the image\n",
    "        gradient, angle = self.run_algorithm(input_image)\n",
    "        gradient = self.normalize_image(gradient)\n",
    "        \n",
    "        # 3. Apply double-trhresholding\n",
    "        gradient = self.apply_thresholding(gradient)\n",
    "        \n",
    "        # 4. Apply Nonmaxima Suppression (compare every pixel alonge the gradient, take maximal) => thin down edges\n",
    "        result = self.suppress_non_maxima(gradient, angle)\n",
    "        \n",
    "        # 5. Traverse along the weak edges and take only those that are connected to strong ones\n",
    "        used = np.zeros(shape=result.shape, dtype=np.bool)\n",
    "        for i in range(0, result.shape[0]):\n",
    "            for j in range(0, result.shape[1]):\n",
    "                if result[i][j] == 255:\n",
    "                    self.traverse(i, j, used, result)\n",
    "        \n",
    "        # Take only those edges that were connected to strong ones in previous step\n",
    "        idx = result[:,:] != 255\n",
    "        result[idx] = 0\n",
    "        return result\n",
    "        \n",
    "        \n",
    "    def run_algorithm(self, input_image):\n",
    "        gradX, gradY = self.gradient_calculator.get_gradients(input_image)\n",
    "        gradient = np.sqrt( np.power(gradX, 2), np.power(gradY, 2) )\n",
    "        result = np.copy(gradient)\n",
    "        angle = np.arctan2(gradY, gradX)\n",
    "        \n",
    "        return result, angle"
   ]
  },
  {
   "cell_type": "markdown",
   "metadata": {},
   "source": [
    "## Second degree derivative based algorithms\n",
    "### Laplacian\n",
    "\n",
    "Reference: http://fourier.eng.hmc.edu/e161/lectures/gradient/node8.html\n",
    "\n",
    "To find edges with second order derivative we need to find all intersections with 0 of the function. In this case our function is considered to be each `3x3` sum-matrix of the input image colvolved by the `laplacian filter`.\n",
    "\n",
    "If the center of `3x3` sub-matrix is greater than 0 and there is an element in that matrix that is smaller than 0 => there was a 0 intersection. Also if the center is smaller than 0 and there is an element that is larger than 0 => there also was an intersection with 0. To have a valid edge we also need to take into account that minimum and maximum elements of the `3x3` matrix are different enough (i.e. max - min > threshold)\n",
    "\n",
    "If all the conditions above are satisfied then the center of `3x3` matrix is considered part of an edge"
   ]
  },
  {
   "cell_type": "code",
   "execution_count": 10,
   "metadata": {},
   "outputs": [],
   "source": [
    "class LaplacianEdgeDetector(EdgeDetector):\n",
    "    def __init__(self, laplacian_filter=None, smooth_image=smooth_gaussian, threshold=20):\n",
    "        \"\"\"\n",
    "        :param laplacian_filter 2D np.array of values representing laplacian filter\n",
    "        \"\"\"\n",
    "        super().__init__(smooth_image=smooth_image, apply_thresholding=None)\n",
    "        self.threshold=threshold\n",
    "        if laplacian_filter is None:\n",
    "            self.laplacian_filter = np.array([[0, 1, 0],\n",
    "                                              [1, -4, 1],\n",
    "                                              [0, 1, 0]], dtype=np.float32)\n",
    "        else:\n",
    "            self.laplacian_filter = laplacian_filter\n",
    "        \n",
    "    def run_algorithm(self, input_image):\n",
    "        f = convolve2d(input_image, self.laplacian_filter, mode='same')\n",
    "        result = np.zeros(shape=f.shape, dtype=np.float32)\n",
    "\n",
    "        h = result.shape[0] # Height of the result\n",
    "        w = result.shape[1] # Width of the result\n",
    "        for i in range(1, h-1):\n",
    "            for j in range(1, w-1):\n",
    "                patch = f[i-1:i+2, j-1:j+2]            # Take the neighbour square of edge-size 3\n",
    "                maxP = patch.max()                     # Compute maximum of that square\n",
    "                minP = patch.min()                     # Compute minimum of that square\n",
    "                if f[i][j] > 0:  zeroCross = minP < 0  # If there is an element lower than 0 and f[i][j] > 0\n",
    "                else:            zeroCross = maxP > 0  # If there is an element greater than 0 and f[i][j] < 0\n",
    "                    \n",
    "                # If the difference between min and max elements is not too low and there is a zeroCross => it's an edge\n",
    "                if maxP - minP > self.threshold and zeroCross:\n",
    "                    result[i][j] = 255\n",
    "        return result"
   ]
  },
  {
   "cell_type": "code",
   "execution_count": 11,
   "metadata": {},
   "outputs": [],
   "source": [
    "class LaplacianOfTheGaussianEdgeDetector(LaplacianEdgeDetector):\n",
    "    def __init__(self, smooth_image=smooth_gaussian):\n",
    "        super().__init__(smooth_image=smooth_image, \n",
    "                         threshold=120,\n",
    "                         laplacian_filter=np.array([[0, 0, 1, 0, 0],\n",
    "                                                    [0, 1, 2, 1, 0],\n",
    "                                                    [1, 2, -16, 2, 1],\n",
    "                                                    [0, 1, 2, 1, 0],\n",
    "                                                    [0, 0, 1, 0, 0]], dtype=np.float32))"
   ]
  },
  {
   "cell_type": "markdown",
   "metadata": {},
   "source": [
    "## Visualization of algirthms"
   ]
  },
  {
   "cell_type": "code",
   "execution_count": 12,
   "metadata": {},
   "outputs": [],
   "source": [
    "def print_detections(input_image, detectors):\n",
    "    \n",
    "    def show(ax, image, label):\n",
    "        ax.imshow(image, cmap='gray')\n",
    "        ax.set_title(label)\n",
    "        ax.axis('off')\n",
    "        \n",
    "    f, axis = plt.subplots(1, len(detectors)+1)\n",
    "    f.set_figheight(15)\n",
    "    f.set_figwidth(15)\n",
    "    \n",
    "    show(axis[0], input_image, 'Original')    \n",
    "    for i, (edge_detector, label) in enumerate(detectors):\n",
    "        out = edge_detector.detect_edges(input_image)\n",
    "        show(axis[i+1], out, label)"
   ]
  },
  {
   "cell_type": "code",
   "execution_count": 18,
   "metadata": {},
   "outputs": [
    {
     "data": {
      "image/png": "[encoded data removed]",
      "text/plain": [
       "<matplotlib.figure.Figure at 0x10af64908>"
      ]
     },
     "metadata": {},
     "output_type": "display_data"
    }
   ],
   "source": [
    "img = misc.imread('./cman.jpg', mode='L')\n",
    "sobel = SobelEdgeDetector()\n",
    "roberts = RobertsEdgeDetector()\n",
    "prewitt = PrewittEdgeDetector()\n",
    "canny = CannyEdgeDetector()\n",
    "laplace = LaplacianEdgeDetector()\n",
    "laplace_of_gaussian = LaplacianOfTheGaussianEdgeDetector()\n",
    "\n",
    "# algorithms = [(sobel, 'Sobel'), (prewitt, 'Prewitt'), (roberts, 'Roberts'), (laplace, 'Laplacian'), (canny, 'Canny')]\n",
    "algorithms = [(sobel, 'Sobel'), (laplace, 'Laplacian'), (laplace_of_gaussian, 'Laplace of the Gaussian')]\n",
    "print_detections(img, algorithms)"
   ]
  },
  {
   "cell_type": "markdown",
   "metadata": {},
   "source": [
    "## Comparison and evaluation of algorithms"
   ]
  },
  {
   "cell_type": "code",
   "execution_count": 14,
   "metadata": {},
   "outputs": [],
   "source": [
    "def evaluate(detector, inputs, labels):\n",
    "    predictions = []\n",
    "    for image, label in zip(inputs, labels):\n",
    "        predictions.append(detector.detect_edges(image))\n",
    "        \n",
    "    labels = np.array(labels)\n",
    "    predictions = np.array(predictions)\n",
    "    return ((labels - predictions) ** 2).mean(axis=None)"
   ]
  },
  {
   "cell_type": "code",
   "execution_count": 15,
   "metadata": {},
   "outputs": [],
   "source": [
    "def get_smple(path, scale, reshape, shape=(256, 256)):\n",
    "    img = misc.imread(path, mode='L')\n",
    "    img = misc.imresize(img, size=shape)\n",
    "    img = np.array(img, dtype=np.float32)\n",
    "    if reshape:\n",
    "        img = np.reshape(img, newshape=img.shape+(1,))\n",
    "    if scale:\n",
    "        img /= 255.\n",
    "    return img\n",
    "\n",
    "def get_data(paths, scale=False, reshape=True):\n",
    "    res = []\n",
    "    for path in paths:\n",
    "        res.append(get_smple(path, scale, reshape))\n",
    "    return np.array(res, dtype=np.float32)\n",
    "\n",
    "test_input_paths = ['./BSDS500/images/test/'+path for path in os.listdir('./BSDS500/images/test/') if path.endswith('.jpg')]\n",
    "test_label_paths = ['./BSDS500/labels/test/'+path for path in os.listdir('./BSDS500/labels/test/') if path.endswith('-1.jpg')]\n",
    "test_input = get_data(test_input_paths, True, False)\n",
    "test_label = get_data(test_label_paths, True, False)"
   ]
  },
  {
   "cell_type": "code",
   "execution_count": 16,
   "metadata": {},
   "outputs": [
    {
     "name": "stdout",
     "output_type": "stream",
     "text": [
      "Sobel:  \t 6955.59737088\n",
      "Roberts:\t 6395.33617917\n",
      "Prewitt:\t 6897.4899915\n",
      "Canny:  \t 2853.64604117\n",
      "Laplace:\t 0.00746338\n",
      "Laplace of the Gaussian:\t 0.00746338\n"
     ]
    }
   ],
   "source": [
    "sobel = SobelEdgeDetector()\n",
    "roberts = RobertsEdgeDetector()\n",
    "prewitt = PrewittEdgeDetector()\n",
    "canny = CannyEdgeDetector()\n",
    "laplace = LaplacianEdgeDetector()\n",
    "laplace_of_gaussian = LaplacianOfTheGaussianEdgeDetector()\n",
    "\n",
    "print('Sobel:  \\t', evaluate(sobel,   test_input, test_label), flush=True)\n",
    "print('Roberts:\\t', evaluate(roberts, test_input, test_label), flush=True)\n",
    "print('Prewitt:\\t', evaluate(prewitt, test_input, test_label), flush=True)\n",
    "print('Canny:  \\t', evaluate(canny,   test_input, test_label), flush=True)\n",
    "print('Laplace:\\t', evaluate(laplace, test_input, test_label), flush=True)\n",
    "print('Laplace of the Gaussian:\\t', evaluate(laplace_of_gaussian, test_input, test_label), flush=True)"
   ]
  },
  {
   "cell_type": "code",
   "execution_count": 17,
   "metadata": {},
   "outputs": [
    {
     "name": "stdout",
     "output_type": "stream",
     "text": [
      "Sobel without thresholding:  \t 986.243933744\n",
      "Roberts without thresholding:\t 696.844844702\n",
      "Prewitt without thresholding:\t 981.180295453\n"
     ]
    }
   ],
   "source": [
    "sobel = SobelEdgeDetector(apply_thresholding=None)\n",
    "roberts = RobertsEdgeDetector(apply_thresholding=None)\n",
    "prewitt = PrewittEdgeDetector(apply_thresholding=None)\n",
    "\n",
    "print('Sobel without thresholding:  \\t', evaluate(sobel,   test_input, test_label), flush=True)\n",
    "print('Roberts without thresholding:\\t', evaluate(roberts, test_input, test_label), flush=True)\n",
    "print('Prewitt without thresholding:\\t', evaluate(prewitt, test_input, test_label), flush=True)"
   ]
  },
  {
   "cell_type": "code",
   "execution_count": null,
   "metadata": {},
   "outputs": [],
   "source": []
  }
 ],
 "metadata": {
  "kernelspec": {
   "display_name": "Python 3",
   "language": "python",
   "name": "python3"
  },
  "language_info": {
   "codemirror_mode": {
    "name": "ipython",
    "version": 3
   },
   "file_extension": ".py",
   "mimetype": "text/x-python",
   "name": "python",
   "nbconvert_exporter": "python",
   "pygments_lexer": "ipython3",
   "version": "3.6.3"
  }
 },
 "nbformat": 4,
 "nbformat_minor": 2
}
