{
 "cells": [
  {
   "cell_type": "code",
   "execution_count": 1,
   "metadata": {},
   "outputs": [
    {
     "name": "stderr",
     "output_type": "stream",
     "text": [
      "Using TensorFlow backend.\n"
     ]
    }
   ],
   "source": [
    "import keras\n",
    "\n",
    "from scipy.ndimage.filters import gaussian_filter\n",
    "from scipy import misc\n",
    "import matplotlib.pyplot as plt\n",
    "import numpy as np\n",
    "%matplotlib inline"
   ]
  },
  {
   "cell_type": "code",
   "execution_count": 2,
   "metadata": {},
   "outputs": [],
   "source": [
    "from keras import backend as K\n",
    "from keras.engine.topology import Layer\n",
    "import numpy as np\n",
    "\n",
    "class CombineGradients(Layer):\n",
    "\n",
    "    def call(self, inputs, **kwargs):\n",
    "        Gx = inputs[0]\n",
    "        Gy = inputs[1]\n",
    "        grad = K.sqrt( Gx**2 + Gy**2 )\n",
    "        return grad\n",
    "\n",
    "    def compute_output_shape(self, input_shape):\n",
    "        return input_shape[0]"
   ]
  },
  {
   "cell_type": "code",
   "execution_count": 3,
   "metadata": {},
   "outputs": [],
   "source": [
    "class Normalize(Layer):\n",
    "    \n",
    "    def call(self, inputs, **kwargs):\n",
    "        res = K.identity(inputs[:, :, :, 0])\n",
    "        \n",
    "        minimum = K.min(res, axis=1)\n",
    "        minimum = K.min(minimum, axis=1)\n",
    "        minimum = K.repeat_elements(minimum, 256, axis=0)\n",
    "        minimum = K.reshape(minimum, shape=(K.shape(res)[0], 256))\n",
    "        minimum = K.repeat(minimum, 256)\n",
    "        res -= minimum\n",
    "\n",
    "        maximum = K.max(res, axis=1)\n",
    "        maximum = K.max(maximum, axis=1)\n",
    "        maximum = K.repeat_elements(maximum, 256, axis=0)\n",
    "        maximum = K.reshape(maximum, shape=(K.shape(res)[0], 256))\n",
    "        maximum = K.repeat(maximum, 256)\n",
    "        res *= K.constant(1.) / maximum\n",
    "        return res\n",
    "    \n",
    "    def compute_output_shape(self, input_shape):\n",
    "        return input_shape[:-1]"
   ]
  },
  {
   "cell_type": "code",
   "execution_count": 5,
   "metadata": {
    "scrolled": false
   },
   "outputs": [
    {
     "name": "stdout",
     "output_type": "stream",
     "text": [
      "____________________________________________________________________________________________________\n",
      "Layer (type)                     Output Shape          Param #     Connected to                     \n",
      "====================================================================================================\n",
      "input (InputLayer)               (None, None, None, 1) 0                                            \n",
      "____________________________________________________________________________________________________\n",
      "Gx (Conv2D)                      (None, None, None, 1) 10          input[0][0]                      \n",
      "____________________________________________________________________________________________________\n",
      "Gy (Conv2D)                      (None, None, None, 1) 10          input[0][0]                      \n",
      "____________________________________________________________________________________________________\n",
      "G (CombineGradients)             (None, None, None, 1) 0           Gx[0][0]                         \n",
      "                                                                   Gy[0][0]                         \n",
      "____________________________________________________________________________________________________\n",
      "output (Normalize)               (None, None, None)    0           G[0][0]                          \n",
      "====================================================================================================\n",
      "Total params: 20\n",
      "Trainable params: 20\n",
      "Non-trainable params: 0\n",
      "____________________________________________________________________________________________________\n"
     ]
    }
   ],
   "source": [
    "from keras.layers import Input\n",
    "from keras.layers import Conv2D\n",
    "from keras.models import Model\n",
    "\n",
    "input_layer = Input(shape=(None, None, 1), name='input')\n",
    "Gx = Conv2D(filters=1, kernel_size=(3, 3), padding='same', activation='tanh', name='Gx')(input_layer)\n",
    "Gy = Conv2D(filters=1, kernel_size=(3, 3), padding='same', activation='tanh', name='Gy')(input_layer)\n",
    "grad = CombineGradients(name='G')([Gx, Gy])\n",
    "out = Normalize(name='output')(grad)\n",
    "\n",
    "model = Model(inputs=input_layer, outputs=out)\n",
    "model.compile(optimizer='adam', loss='mse')\n",
    "\n",
    "model.summary()"
   ]
  },
  {
   "cell_type": "code",
   "execution_count": 6,
   "metadata": {},
   "outputs": [],
   "source": [
    "from skimage.filters import threshold_otsu, threshold_local\n",
    "\n",
    "def apply_threshold(input_image, threshold, high_value, low_value):\n",
    "    assert input_image.shape == threshold.shape\n",
    "    diff = input_image - threshold\n",
    "    \n",
    "    result = np.ones(shape=input_image.shape) * high_value\n",
    "    low_indices = diff[:,:] < 0\n",
    "    result[low_indices] = low_value\n",
    "    return result\n",
    "\n",
    "def global_otsu_thresholding(input_image, high_value=1, low_value=0):\n",
    "    global_thresh = threshold_otsu(input_image)\n",
    "    return apply_threshold(input_image, \n",
    "                           np.ones(shape=input_image.shape) * global_thresh, \n",
    "                           high_value, \n",
    "                           low_value)"
   ]
  },
  {
   "cell_type": "code",
   "execution_count": 7,
   "metadata": {},
   "outputs": [],
   "source": [
    "def get_smple(path, scale, reshape):\n",
    "    img = misc.imread(path, mode='L')\n",
    "    img = misc.imresize(img, size=(256, 256))\n",
    "    img = np.array(img, dtype=np.float32)\n",
    "    if reshape:\n",
    "        img = np.reshape(img, newshape=img.shape+(1,))\n",
    "    if scale:\n",
    "        img /= 255.\n",
    "    return img\n",
    "\n",
    "def get_data(paths, scale=False, reshape=True):\n",
    "    res = []\n",
    "    for path in paths:\n",
    "        res.append(get_smple(path, scale, reshape))\n",
    "    return np.array(res, dtype=np.float32)"
   ]
  },
  {
   "cell_type": "code",
   "execution_count": 8,
   "metadata": {},
   "outputs": [
    {
     "name": "stdout",
     "output_type": "stream",
     "text": [
      "200 200 100\n",
      "200 200 100\n"
     ]
    }
   ],
   "source": [
    "import os\n",
    "train_input_paths = ['./BSDS500/images/train/'+path for path in os.listdir('./BSDS500/images/train/') if path.endswith('.jpg')]\n",
    "test_input_paths = ['./BSDS500/images/test/'+path for path in os.listdir('./BSDS500/images/test/') if path.endswith('.jpg')]\n",
    "valid_input_paths = ['./BSDS500/images/val/'+path for path in os.listdir('./BSDS500/images/val/') if path.endswith('.jpg')]\n",
    "train_input = get_data(train_input_paths, True)\n",
    "test_input = get_data(test_input_paths, True)\n",
    "valid_input = get_data(valid_input_paths, True)\n",
    "\n",
    "train_label_paths = ['./BSDS500/labels/train/'+path for path in os.listdir('./BSDS500/labels/train/') if path.endswith('-1.jpg')]\n",
    "test_label_paths = ['./BSDS500/labels/test/'+path for path in os.listdir('./BSDS500/labels/test/') if path.endswith('-1.jpg')]\n",
    "valid_label_paths = ['./BSDS500/labels/valid/'+path for path in os.listdir('./BSDS500/labels/valid/') if path.endswith('-1.jpg')]\n",
    "train_label = get_data(train_label_paths, True, False)\n",
    "test_label = get_data(test_label_paths, True, False)\n",
    "valid_label = get_data(valid_label_paths, True, False)\n",
    "\n",
    "print(len(train_input_paths), len(test_input_paths), len(valid_input_paths))\n",
    "print(len(train_label_paths), len(test_label_paths), len(valid_label_paths))"
   ]
  },
  {
   "cell_type": "markdown",
   "metadata": {},
   "source": [
    "## Train the model"
   ]
  },
  {
   "cell_type": "code",
   "execution_count": 10,
   "metadata": {
    "scrolled": true
   },
   "outputs": [
    {
     "name": "stdout",
     "output_type": "stream",
     "text": [
      "Train on 200 samples, validate on 100 samples\n",
      "Epoch 1/77\n",
      "200/200 [==============================] - 6s - loss: 0.2890 - val_loss: 0.2685\n",
      "Epoch 2/77\n",
      "200/200 [==============================] - 6s - loss: 0.2758 - val_loss: 0.2559\n",
      "Epoch 3/77\n",
      "200/200 [==============================] - 6s - loss: 0.2629 - val_loss: 0.2438\n",
      "Epoch 4/77\n",
      "200/200 [==============================] - 6s - loss: 0.2504 - val_loss: 0.2319\n",
      "Epoch 5/77\n",
      "200/200 [==============================] - 7s - loss: 0.2377 - val_loss: 0.2195\n",
      "Epoch 6/77\n",
      "200/200 [==============================] - 6s - loss: 0.2240 - val_loss: 0.2047\n",
      "Epoch 7/77\n",
      "200/200 [==============================] - 6s - loss: 0.2079 - val_loss: 0.1877\n",
      "Epoch 8/77\n",
      "200/200 [==============================] - 8s - loss: 0.1890 - val_loss: 0.1679\n",
      "Epoch 9/77\n",
      "200/200 [==============================] - 7s - loss: 0.1686 - val_loss: 0.1489\n",
      "Epoch 10/77\n",
      "200/200 [==============================] - 8s - loss: 0.1484 - val_loss: 0.1295\n",
      "Epoch 11/77\n",
      "200/200 [==============================] - 7s - loss: 0.1286 - val_loss: 0.1104\n",
      "Epoch 12/77\n",
      "200/200 [==============================] - 7s - loss: 0.1083 - val_loss: 0.0920\n",
      "Epoch 13/77\n",
      "200/200 [==============================] - 7s - loss: 0.0889 - val_loss: 0.0748\n",
      "Epoch 14/77\n",
      "200/200 [==============================] - 6s - loss: 0.0715 - val_loss: 0.0602\n",
      "Epoch 15/77\n",
      "200/200 [==============================] - 5s - loss: 0.0571 - val_loss: 0.0487\n",
      "Epoch 16/77\n",
      "200/200 [==============================] - 6s - loss: 0.0457 - val_loss: 0.0404\n",
      "Epoch 17/77\n",
      "200/200 [==============================] - 6s - loss: 0.0384 - val_loss: 0.0358\n",
      "Epoch 18/77\n",
      "200/200 [==============================] - 5s - loss: 0.0344 - val_loss: 0.0333\n",
      "Epoch 19/77\n",
      "200/200 [==============================] - 6s - loss: 0.0324 - val_loss: 0.0324\n",
      "Epoch 20/77\n",
      "200/200 [==============================] - 6s - loss: 0.0317 - val_loss: 0.0320\n",
      "Epoch 21/77\n",
      "200/200 [==============================] - 6s - loss: 0.0314 - val_loss: 0.0319\n",
      "Epoch 22/77\n",
      "200/200 [==============================] - 7s - loss: 0.0313 - val_loss: 0.0318\n",
      "Epoch 23/77\n",
      "200/200 [==============================] - 6s - loss: 0.0312 - val_loss: 0.0317\n",
      "Epoch 24/77\n",
      "200/200 [==============================] - 6s - loss: 0.0311 - val_loss: 0.0316\n",
      "Epoch 25/77\n",
      "200/200 [==============================] - 7s - loss: 0.0310 - val_loss: 0.0315\n",
      "Epoch 26/77\n",
      "200/200 [==============================] - 6s - loss: 0.0309 - val_loss: 0.0314\n",
      "Epoch 27/77\n",
      "200/200 [==============================] - 6s - loss: 0.0308 - val_loss: 0.0313\n",
      "Epoch 28/77\n",
      "200/200 [==============================] - 6s - loss: 0.0307 - val_loss: 0.0311\n",
      "Epoch 29/77\n",
      "200/200 [==============================] - 6s - loss: 0.0305 - val_loss: 0.0310\n",
      "Epoch 30/77\n",
      "200/200 [==============================] - 6s - loss: 0.0304 - val_loss: 0.0309\n",
      "Epoch 31/77\n",
      "200/200 [==============================] - 6s - loss: 0.0304 - val_loss: 0.0308\n",
      "Epoch 32/77\n",
      "200/200 [==============================] - 7s - loss: 0.0303 - val_loss: 0.0307\n",
      "Epoch 33/77\n",
      "200/200 [==============================] - 7s - loss: 0.0302 - val_loss: 0.0306\n",
      "Epoch 34/77\n",
      "200/200 [==============================] - 6s - loss: 0.0301 - val_loss: 0.0305\n",
      "Epoch 35/77\n",
      "200/200 [==============================] - 8s - loss: 0.0300 - val_loss: 0.0304\n",
      "Epoch 36/77\n",
      "200/200 [==============================] - 8s - loss: 0.0298 - val_loss: 0.0302\n",
      "Epoch 37/77\n",
      "200/200 [==============================] - 6s - loss: 0.0297 - val_loss: 0.0302\n",
      "Epoch 38/77\n",
      "200/200 [==============================] - 5s - loss: 0.0297 - val_loss: 0.0301\n",
      "Epoch 39/77\n",
      "200/200 [==============================] - 5s - loss: 0.0295 - val_loss: 0.0299\n",
      "Epoch 40/77\n",
      "200/200 [==============================] - 7s - loss: 0.0295 - val_loss: 0.0299\n",
      "Epoch 41/77\n",
      "200/200 [==============================] - 7s - loss: 0.0295 - val_loss: 0.0299\n",
      "Epoch 42/77\n",
      "200/200 [==============================] - 5s - loss: 0.0294 - val_loss: 0.0297\n",
      "Epoch 43/77\n",
      "200/200 [==============================] - 5s - loss: 0.0292 - val_loss: 0.0296\n",
      "Epoch 44/77\n",
      "200/200 [==============================] - 6s - loss: 0.0291 - val_loss: 0.0295\n",
      "Epoch 45/77\n",
      "200/200 [==============================] - 7s - loss: 0.0290 - val_loss: 0.0294\n",
      "Epoch 46/77\n",
      "200/200 [==============================] - 7s - loss: 0.0289 - val_loss: 0.0294\n",
      "Epoch 47/77\n",
      "200/200 [==============================] - 6s - loss: 0.0289 - val_loss: 0.0292\n",
      "Epoch 48/77\n",
      "200/200 [==============================] - 6s - loss: 0.0288 - val_loss: 0.0291\n",
      "Epoch 49/77\n",
      "200/200 [==============================] - 5s - loss: 0.0287 - val_loss: 0.0290\n",
      "Epoch 50/77\n",
      "200/200 [==============================] - 6s - loss: 0.0286 - val_loss: 0.0289\n",
      "Epoch 51/77\n",
      "200/200 [==============================] - 5s - loss: 0.0285 - val_loss: 0.0289\n",
      "Epoch 52/77\n",
      "200/200 [==============================] - 5s - loss: 0.0284 - val_loss: 0.0288\n",
      "Epoch 53/77\n",
      "200/200 [==============================] - 5s - loss: 0.0283 - val_loss: 0.0287\n",
      "Epoch 54/77\n",
      "200/200 [==============================] - 6s - loss: 0.0283 - val_loss: 0.0286\n",
      "Epoch 55/77\n",
      "200/200 [==============================] - 6s - loss: 0.0282 - val_loss: 0.0285\n",
      "Epoch 56/77\n",
      "200/200 [==============================] - 6s - loss: 0.0281 - val_loss: 0.0284\n",
      "Epoch 57/77\n",
      "200/200 [==============================] - 6s - loss: 0.0280 - val_loss: 0.0284\n",
      "Epoch 58/77\n",
      "200/200 [==============================] - 5s - loss: 0.0279 - val_loss: 0.0283\n",
      "Epoch 59/77\n",
      "200/200 [==============================] - 5s - loss: 0.0279 - val_loss: 0.0282\n",
      "Epoch 60/77\n",
      "200/200 [==============================] - 5s - loss: 0.0279 - val_loss: 0.0284\n",
      "Epoch 61/77\n",
      "200/200 [==============================] - 5s - loss: 0.0279 - val_loss: 0.0283\n",
      "Epoch 62/77\n",
      "200/200 [==============================] - 5s - loss: 0.0278 - val_loss: 0.0281\n",
      "Epoch 63/77\n",
      "200/200 [==============================] - 6s - loss: 0.0276 - val_loss: 0.0279\n",
      "Epoch 64/77\n",
      "200/200 [==============================] - 7s - loss: 0.0275 - val_loss: 0.0279\n",
      "Epoch 65/77\n",
      "200/200 [==============================] - 6s - loss: 0.0275 - val_loss: 0.0278\n",
      "Epoch 66/77\n",
      "200/200 [==============================] - 5s - loss: 0.0274 - val_loss: 0.0277\n",
      "Epoch 67/77\n",
      "200/200 [==============================] - 6s - loss: 0.0274 - val_loss: 0.0277\n",
      "Epoch 68/77\n",
      "200/200 [==============================] - 6s - loss: 0.0273 - val_loss: 0.0276\n",
      "Epoch 69/77\n",
      "200/200 [==============================] - 5s - loss: 0.0272 - val_loss: 0.0275\n",
      "Epoch 70/77\n",
      "200/200 [==============================] - 5s - loss: 0.0271 - val_loss: 0.0275\n",
      "Epoch 71/77\n",
      "200/200 [==============================] - 6s - loss: 0.0271 - val_loss: 0.0274\n",
      "Epoch 72/77\n",
      "200/200 [==============================] - 6s - loss: 0.0270 - val_loss: 0.0273\n",
      "Epoch 73/77\n",
      "200/200 [==============================] - 5s - loss: 0.0270 - val_loss: 0.0273\n",
      "Epoch 74/77\n",
      "200/200 [==============================] - 5s - loss: 0.0269 - val_loss: 0.0273\n",
      "Epoch 75/77\n",
      "200/200 [==============================] - 6s - loss: 0.0269 - val_loss: 0.0272\n",
      "Epoch 76/77\n",
      "200/200 [==============================] - 8s - loss: 0.0269 - val_loss: 0.0272\n",
      "Epoch 77/77\n",
      "200/200 [==============================] - 5s - loss: 0.0268 - val_loss: 0.0271\n"
     ]
    },
    {
     "data": {
      "text/plain": [
       "<keras.callbacks.History at 0x118e1ac18>"
      ]
     },
     "execution_count": 10,
     "metadata": {},
     "output_type": "execute_result"
    }
   ],
   "source": [
    "model.fit(train_input, train_label, batch_size=33, epochs=77, validation_data=(valid_input, valid_label))"
   ]
  },
  {
   "cell_type": "markdown",
   "metadata": {},
   "source": [
    "## Understanding what's goind on..."
   ]
  },
  {
   "cell_type": "code",
   "execution_count": 11,
   "metadata": {
    "scrolled": true
   },
   "outputs": [
    {
     "data": {
      "text/plain": [
       "<matplotlib.image.AxesImage at 0x11b924c50>"
      ]
     },
     "execution_count": 11,
     "metadata": {},
     "output_type": "execute_result"
    },
    {
     "data": {
      "image/png": "[encoded data removed]",
      "text/plain": [
       "<matplotlib.figure.Figure at 0x118b04c50>"
      ]
     },
     "metadata": {},
     "output_type": "display_data"
    }
   ],
   "source": [
    "img = get_smple('./cman.jpg', True, True)\n",
    "\n",
    "inp = np.array([img])\n",
    "prediction = model.predict(inp)[0]\n",
    "out = global_otsu_thresholding(prediction)\n",
    "plt.imshow(prediction, cmap='gray')"
   ]
  },
  {
   "cell_type": "code",
   "execution_count": 12,
   "metadata": {},
   "outputs": [
    {
     "data": {
      "image/svg+xml": [
       "<svg height=\"264pt\" viewBox=\"0.00 0.00 201.95 264.00\" width=\"202pt\" xmlns=\"http://www.w3.org/2000/svg\" xmlns:xlink=\"http://www.w3.org/1999/xlink\">\n",
       "<g class=\"graph\" id=\"graph0\" transform=\"scale(1 1) rotate(0) translate(4 260)\">\n",
       "<title>G</title>\n",
       "<polygon fill=\"#ffffff\" points=\"-4,4 -4,-260 197.9482,-260 197.9482,4 -4,4\" stroke=\"transparent\"/>\n",
       "<!-- 4695392664 -->\n",
       "<g class=\"node\" id=\"node1\">\n",
       "<title>4695392664</title>\n",
       "<polygon fill=\"none\" points=\"39.793,-219.5 39.793,-255.5 154.1553,-255.5 154.1553,-219.5 39.793,-219.5\" stroke=\"#000000\"/>\n",
       "<text fill=\"#000000\" font-family=\"Times,serif\" font-size=\"14.00\" text-anchor=\"middle\" x=\"96.9741\" y=\"-233.3\">input: InputLayer</text>\n",
       "</g>\n",
       "<!-- 4695392888 -->\n",
       "<g class=\"node\" id=\"node2\">\n",
       "<title>4695392888</title>\n",
       "<polygon fill=\"none\" points=\"0,-146.5 0,-182.5 87.9482,-182.5 87.9482,-146.5 0,-146.5\" stroke=\"#000000\"/>\n",
       "<text fill=\"#000000\" font-family=\"Times,serif\" font-size=\"14.00\" text-anchor=\"middle\" x=\"43.9741\" y=\"-160.3\">Gx: Conv2D</text>\n",
       "</g>\n",
       "<!-- 4695392664&#45;&gt;4695392888 -->\n",
       "<g class=\"edge\" id=\"edge1\">\n",
       "<title>4695392664-&gt;4695392888</title>\n",
       "<path d=\"M83.873,-219.4551C77.6301,-210.8564 70.0409,-200.4034 63.1642,-190.9316\" fill=\"none\" stroke=\"#000000\"/>\n",
       "<polygon fill=\"#000000\" points=\"65.8156,-188.6262 57.1082,-182.5904 60.1511,-192.7388 65.8156,-188.6262\" stroke=\"#000000\"/>\n",
       "</g>\n",
       "<!-- 4695415720 -->\n",
       "<g class=\"node\" id=\"node3\">\n",
       "<title>4695415720</title>\n",
       "<polygon fill=\"none\" points=\"106,-146.5 106,-182.5 193.9482,-182.5 193.9482,-146.5 106,-146.5\" stroke=\"#000000\"/>\n",
       "<text fill=\"#000000\" font-family=\"Times,serif\" font-size=\"14.00\" text-anchor=\"middle\" x=\"149.9741\" y=\"-160.3\">Gy: Conv2D</text>\n",
       "</g>\n",
       "<!-- 4695392664&#45;&gt;4695415720 -->\n",
       "<g class=\"edge\" id=\"edge2\">\n",
       "<title>4695392664-&gt;4695415720</title>\n",
       "<path d=\"M110.0752,-219.4551C116.3181,-210.8564 123.9073,-200.4034 130.784,-190.9316\" fill=\"none\" stroke=\"#000000\"/>\n",
       "<polygon fill=\"#000000\" points=\"133.7971,-192.7388 136.84,-182.5904 128.1326,-188.6262 133.7971,-192.7388\" stroke=\"#000000\"/>\n",
       "</g>\n",
       "<!-- 4695416280 -->\n",
       "<g class=\"node\" id=\"node4\">\n",
       "<title>4695416280</title>\n",
       "<polygon fill=\"none\" points=\"27.3447,-73.5 27.3447,-109.5 166.6035,-109.5 166.6035,-73.5 27.3447,-73.5\" stroke=\"#000000\"/>\n",
       "<text fill=\"#000000\" font-family=\"Times,serif\" font-size=\"14.00\" text-anchor=\"middle\" x=\"96.9741\" y=\"-87.3\">G: CombineGradients</text>\n",
       "</g>\n",
       "<!-- 4695392888&#45;&gt;4695416280 -->\n",
       "<g class=\"edge\" id=\"edge3\">\n",
       "<title>4695392888-&gt;4695416280</title>\n",
       "<path d=\"M57.0752,-146.4551C63.3181,-137.8564 70.9073,-127.4034 77.784,-117.9316\" fill=\"none\" stroke=\"#000000\"/>\n",
       "<polygon fill=\"#000000\" points=\"80.7971,-119.7388 83.84,-109.5904 75.1326,-115.6262 80.7971,-119.7388\" stroke=\"#000000\"/>\n",
       "</g>\n",
       "<!-- 4695415720&#45;&gt;4695416280 -->\n",
       "<g class=\"edge\" id=\"edge4\">\n",
       "<title>4695415720-&gt;4695416280</title>\n",
       "<path d=\"M136.873,-146.4551C130.6301,-137.8564 123.0409,-127.4034 116.1642,-117.9316\" fill=\"none\" stroke=\"#000000\"/>\n",
       "<polygon fill=\"#000000\" points=\"118.8156,-115.6262 110.1082,-109.5904 113.1511,-119.7388 118.8156,-115.6262\" stroke=\"#000000\"/>\n",
       "</g>\n",
       "<!-- 4695501064 -->\n",
       "<g class=\"node\" id=\"node5\">\n",
       "<title>4695501064</title>\n",
       "<polygon fill=\"none\" points=\"37.8481,-.5 37.8481,-36.5 156.1001,-36.5 156.1001,-.5 37.8481,-.5\" stroke=\"#000000\"/>\n",
       "<text fill=\"#000000\" font-family=\"Times,serif\" font-size=\"14.00\" text-anchor=\"middle\" x=\"96.9741\" y=\"-14.3\">output: Normalize</text>\n",
       "</g>\n",
       "<!-- 4695416280&#45;&gt;4695501064 -->\n",
       "<g class=\"edge\" id=\"edge5\">\n",
       "<title>4695416280-&gt;4695501064</title>\n",
       "<path d=\"M96.9741,-73.4551C96.9741,-65.3828 96.9741,-55.6764 96.9741,-46.6817\" fill=\"none\" stroke=\"#000000\"/>\n",
       "<polygon fill=\"#000000\" points=\"100.4742,-46.5903 96.9741,-36.5904 93.4742,-46.5904 100.4742,-46.5903\" stroke=\"#000000\"/>\n",
       "</g>\n",
       "</g>\n",
       "</svg>"
      ],
      "text/plain": [
       "<IPython.core.display.SVG object>"
      ]
     },
     "execution_count": 12,
     "metadata": {},
     "output_type": "execute_result"
    }
   ],
   "source": [
    "from IPython.display import SVG\n",
    "from keras.utils.vis_utils import model_to_dot\n",
    "SVG(model_to_dot(model).create(prog='dot', format='svg'))"
   ]
  },
  {
   "cell_type": "code",
   "execution_count": 13,
   "metadata": {},
   "outputs": [
    {
     "name": "stdout",
     "output_type": "stream",
     "text": [
      "Filter in X direction:\n",
      "[[-0.39239445 -0.53941077 -0.37366104]\n",
      " [-0.1532931   0.56285882 -0.4294759 ]\n",
      " [ 0.32270366  0.47960371  0.51138449]]\n",
      "\n",
      "Filter in Y direction\n",
      "[[ 0.24928103 -0.35882878  0.13567479]\n",
      " [ 0.04245757 -0.41169718  0.23985936]\n",
      " [ 0.36470434 -0.23497118  0.0858032 ]]\n"
     ]
    }
   ],
   "source": [
    "Gx = model.layers[1]\n",
    "Gy = model.layers[2]\n",
    "\n",
    "filterX = np.reshape(Gx.get_weights()[0], newshape=(3, 3))\n",
    "filterY = np.reshape(Gy.get_weights()[0], newshape=(3, 3))\n",
    "print('Filter in X direction:')\n",
    "print(filterX)\n",
    "print('\\nFilter in Y direction')\n",
    "print(filterY)"
   ]
  },
  {
   "cell_type": "markdown",
   "metadata": {},
   "source": [
    "### Evaluation on testing dataset"
   ]
  },
  {
   "cell_type": "code",
   "execution_count": 14,
   "metadata": {},
   "outputs": [
    {
     "name": "stdout",
     "output_type": "stream",
     "text": [
      "200/200 [==============================] - 1s     \n"
     ]
    },
    {
     "data": {
      "text/plain": [
       "0.027330735772848128"
      ]
     },
     "execution_count": 14,
     "metadata": {},
     "output_type": "execute_result"
    }
   ],
   "source": [
    "model.evaluate(test_input, test_label)"
   ]
  },
  {
   "cell_type": "code",
   "execution_count": null,
   "metadata": {},
   "outputs": [],
   "source": []
  }
 ],
 "metadata": {
  "kernelspec": {
   "display_name": "Python 3",
   "language": "python",
   "name": "python3"
  },
  "language_info": {
   "codemirror_mode": {
    "name": "ipython",
    "version": 3
   },
   "file_extension": ".py",
   "mimetype": "text/x-python",
   "name": "python",
   "nbconvert_exporter": "python",
   "pygments_lexer": "ipython3",
   "version": "3.6.3"
  }
 },
 "nbformat": 4,
 "nbformat_minor": 2
}
