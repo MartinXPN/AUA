{
 "cells": [
  {
   "cell_type": "code",
   "execution_count": 1,
   "metadata": {},
   "outputs": [
    {
     "name": "stderr",
     "output_type": "stream",
     "text": [
      "Using TensorFlow backend.\n"
     ]
    }
   ],
   "source": [
    "import keras\n",
    "\n",
    "from scipy.ndimage.filters import gaussian_filter\n",
    "from scipy import misc\n",
    "import matplotlib.pyplot as plt\n",
    "import numpy as np\n",
    "%matplotlib inline"
   ]
  },
  {
   "cell_type": "code",
   "execution_count": 2,
   "metadata": {},
   "outputs": [],
   "source": [
    "from keras import backend as K\n",
    "from keras.engine.topology import Layer\n",
    "import numpy as np\n",
    "\n",
    "class CombineGradients(Layer):\n",
    "    def __init__(self, **kwargs):\n",
    "        super(CombineGradients, self).__init__(**kwargs)\n",
    "\n",
    "    def call(self, inputs, **kwargs):\n",
    "        Gx = inputs[0]\n",
    "        Gy = inputs[1]\n",
    "        grad = K.sqrt( Gx**2 + Gy**2 )\n",
    "        return grad\n",
    "\n",
    "    def compute_output_shape(self, input_shape):\n",
    "        return input_shape[0]"
   ]
  },
  {
   "cell_type": "code",
   "execution_count": 3,
   "metadata": {},
   "outputs": [],
   "source": [
    "class Normalize(Layer):\n",
    "    def __init__(self, **kwargs):\n",
    "        super(Normalize, self).__init__(**kwargs)\n",
    "    \n",
    "    def call(self, inputs, **kwargs):\n",
    "        res = K.identity(inputs[:, :, :, 0])\n",
    "        \n",
    "        minimum = K.min(res, axis=1)\n",
    "        minimum = K.min(minimum, axis=1)\n",
    "        minimum = K.repeat_elements(minimum, 256, axis=0)\n",
    "        minimum = K.reshape(minimum, shape=(K.shape(res)[0], 256))\n",
    "        minimum = K.repeat(minimum, 256)\n",
    "        res -= minimum\n",
    "        print(minimum)\n",
    "\n",
    "        maximum = K.max(res, axis=1)\n",
    "        maximum = K.max(maximum, axis=1)\n",
    "        maximum = K.repeat_elements(maximum, 256, axis=0)\n",
    "        maximum = K.reshape(maximum, shape=(K.shape(res)[0], 256))\n",
    "        maximum = K.repeat(maximum, 256)\n",
    "        res *= K.constant(1.) / maximum\n",
    "        return res\n",
    "    \n",
    "    def compute_output_shape(self, input_shape):\n",
    "        return input_shape[:-1]"
   ]
  },
  {
   "cell_type": "code",
   "execution_count": 10,
   "metadata": {
    "scrolled": true
   },
   "outputs": [
    {
     "name": "stdout",
     "output_type": "stream",
     "text": [
      "Tensor(\"output_1/Tile_1:0\", shape=(?, 256, 256), dtype=float32)\n",
      "____________________________________________________________________________________________________\n",
      "Layer (type)                     Output Shape          Param #     Connected to                     \n",
      "====================================================================================================\n",
      "input (InputLayer)               (None, None, None, 1) 0                                            \n",
      "____________________________________________________________________________________________________\n",
      "Gx (Conv2D)                      (None, None, None, 1) 10          input[0][0]                      \n",
      "____________________________________________________________________________________________________\n",
      "Gy (Conv2D)                      (None, None, None, 1) 10          input[0][0]                      \n",
      "____________________________________________________________________________________________________\n",
      "G (CombineGradients)             (None, None, None, 1) 0           Gx[0][0]                         \n",
      "                                                                   Gy[0][0]                         \n",
      "____________________________________________________________________________________________________\n",
      "output (Normalize)               (None, None, None)    0           G[0][0]                          \n",
      "====================================================================================================\n",
      "Total params: 20\n",
      "Trainable params: 20\n",
      "Non-trainable params: 0\n",
      "____________________________________________________________________________________________________\n"
     ]
    }
   ],
   "source": [
    "from keras.layers import Input\n",
    "from keras.layers import Conv2D\n",
    "from keras.models import Model\n",
    "\n",
    "input_layer = Input(shape=(None, None, 1), name='input')\n",
    "Gx = Conv2D(filters=1, kernel_size=(3, 3), padding='same', name='Gx')(input_layer)\n",
    "Gy = Conv2D(filters=1, kernel_size=(3, 3), padding='same', name='Gy')(input_layer)\n",
    "grad = CombineGradients(name='G')([Gx, Gy])\n",
    "out = Normalize(name='output')(grad)\n",
    "\n",
    "model = Model(inputs=input_layer, outputs=out)\n",
    "model.compile(optimizer='adam', loss='binary_crossentropy')\n",
    "\n",
    "model.summary()"
   ]
  },
  {
   "cell_type": "code",
   "execution_count": 5,
   "metadata": {},
   "outputs": [],
   "source": [
    "def get_smple(path, scale, reshape):\n",
    "    img = misc.imread(path, mode='L')\n",
    "    img = misc.imresize(img, size=(256, 256))\n",
    "    img = np.array(img, dtype=np.float32)\n",
    "    if reshape:\n",
    "        img = np.reshape(img, newshape=img.shape+(1,))\n",
    "    if scale:\n",
    "        img /= 255.\n",
    "    return img\n",
    "\n",
    "def get_data(paths, scale=False, reshape=True):\n",
    "    res = []\n",
    "    for path in paths:\n",
    "        res.append(get_smple(path, scale, reshape))\n",
    "    return np.array(res, dtype=np.float32)"
   ]
  },
  {
   "cell_type": "code",
   "execution_count": 6,
   "metadata": {},
   "outputs": [
    {
     "name": "stdout",
     "output_type": "stream",
     "text": [
      "200 200 100\n",
      "200 200 100\n"
     ]
    }
   ],
   "source": [
    "import os\n",
    "train_input_paths = ['./BSDS500/images/train/'+path for path in os.listdir('./BSDS500/images/train/') if path.endswith('.jpg')]\n",
    "test_input_paths = ['./BSDS500/images/test/'+path for path in os.listdir('./BSDS500/images/test/') if path.endswith('.jpg')]\n",
    "valid_input_paths = ['./BSDS500/images/val/'+path for path in os.listdir('./BSDS500/images/val/') if path.endswith('.jpg')]\n",
    "train_input = get_data(train_input_paths, True)\n",
    "test_input = get_data(test_input_paths, True)\n",
    "valid_input = get_data(valid_input_paths, True)\n",
    "\n",
    "train_label_paths = ['./BSDS500/labels/train/'+path for path in os.listdir('./BSDS500/labels/train/') if path.endswith('-1.jpg')]\n",
    "test_label_paths = ['./BSDS500/labels/test/'+path for path in os.listdir('./BSDS500/labels/test/') if path.endswith('-1.jpg')]\n",
    "valid_label_paths = ['./BSDS500/labels/valid/'+path for path in os.listdir('./BSDS500/labels/valid/') if path.endswith('-1.jpg')]\n",
    "train_label = get_data(train_label_paths, True, False)\n",
    "test_label = get_data(test_label_paths, True, False)\n",
    "valid_label = get_data(valid_label_paths, True, False)\n",
    "\n",
    "print(len(train_input_paths), len(test_input_paths), len(valid_input_paths))\n",
    "print(len(train_label_paths), len(test_label_paths), len(valid_label_paths))"
   ]
  },
  {
   "cell_type": "code",
   "execution_count": 11,
   "metadata": {},
   "outputs": [
    {
     "name": "stdout",
     "output_type": "stream",
     "text": [
      "200/200 [==============================] - 2s     \n"
     ]
    },
    {
     "data": {
      "text/plain": [
       "0.49445046186447145"
      ]
     },
     "execution_count": 11,
     "metadata": {},
     "output_type": "execute_result"
    }
   ],
   "source": [
    "model.evaluate(train_input, train_label)"
   ]
  },
  {
   "cell_type": "code",
   "execution_count": 12,
   "metadata": {
    "scrolled": true
   },
   "outputs": [
    {
     "name": "stdout",
     "output_type": "stream",
     "text": [
      "Train on 200 samples, validate on 100 samples\n",
      "Epoch 1/50\n",
      "200/200 [==============================] - 6s - loss: 0.4756 - val_loss: 0.4382\n",
      "Epoch 2/50\n",
      "200/200 [==============================] - 6s - loss: 0.4211 - val_loss: 0.3736\n",
      "Epoch 3/50\n",
      "200/200 [==============================] - 8s - loss: 0.3538 - val_loss: 0.3023\n",
      "Epoch 4/50\n",
      "200/200 [==============================] - 8s - loss: 0.2823 - val_loss: 0.2389\n",
      "Epoch 5/50\n",
      "200/200 [==============================] - 7s - loss: 0.2223 - val_loss: 0.1922\n",
      "Epoch 6/50\n",
      "200/200 [==============================] - 6s - loss: 0.1772 - val_loss: 0.1579\n",
      "Epoch 7/50\n",
      "200/200 [==============================] - 6s - loss: 0.1478 - val_loss: 0.1427\n",
      "Epoch 8/50\n",
      "200/200 [==============================] - 6s - loss: 0.1395 - val_loss: 0.1427\n",
      "Epoch 9/50\n",
      "200/200 [==============================] - 6s - loss: 0.1409 - val_loss: 0.1433\n",
      "Epoch 10/50\n",
      "200/200 [==============================] - 6s - loss: 0.1407 - val_loss: 0.1419\n",
      "Epoch 11/50\n",
      "200/200 [==============================] - 8s - loss: 0.1391 - val_loss: 0.1404\n",
      "Epoch 12/50\n",
      "200/200 [==============================] - 6s - loss: 0.1378 - val_loss: 0.1398\n",
      "Epoch 13/50\n",
      "200/200 [==============================] - 8s - loss: 0.1371 - val_loss: 0.1392\n",
      "Epoch 14/50\n",
      "200/200 [==============================] - 8s - loss: 0.1365 - val_loss: 0.1387\n",
      "Epoch 15/50\n",
      "200/200 [==============================] - 7s - loss: 0.1360 - val_loss: 0.1383\n",
      "Epoch 16/50\n",
      "200/200 [==============================] - 6s - loss: 0.1354 - val_loss: 0.1377\n",
      "Epoch 17/50\n",
      "200/200 [==============================] - 8s - loss: 0.1348 - val_loss: 0.1372\n",
      "Epoch 18/50\n",
      "200/200 [==============================] - 9s - loss: 0.1345 - val_loss: 0.1367\n",
      "Epoch 19/50\n",
      "200/200 [==============================] - 6s - loss: 0.1342 - val_loss: 0.1364\n",
      "Epoch 20/50\n",
      "200/200 [==============================] - 6s - loss: 0.1337 - val_loss: 0.1362\n",
      "Epoch 21/50\n",
      "200/200 [==============================] - 6s - loss: 0.1334 - val_loss: 0.1359\n",
      "Epoch 22/50\n",
      "200/200 [==============================] - 6s - loss: 0.1332 - val_loss: 0.1355\n",
      "Epoch 23/50\n",
      "200/200 [==============================] - 6s - loss: 0.1327 - val_loss: 0.1352\n",
      "Epoch 24/50\n",
      "200/200 [==============================] - 6s - loss: 0.1325 - val_loss: 0.1349\n",
      "Epoch 25/50\n",
      "200/200 [==============================] - 8s - loss: 0.1323 - val_loss: 0.1347\n",
      "Epoch 26/50\n",
      "200/200 [==============================] - 7s - loss: 0.1320 - val_loss: 0.1344\n",
      "Epoch 27/50\n",
      "200/200 [==============================] - 6s - loss: 0.1318 - val_loss: 0.1344\n",
      "Epoch 28/50\n",
      "200/200 [==============================] - 6s - loss: 0.1318 - val_loss: 0.1340\n",
      "Epoch 29/50\n",
      "200/200 [==============================] - 6s - loss: 0.1314 - val_loss: 0.1337\n",
      "Epoch 30/50\n",
      "200/200 [==============================] - 6s - loss: 0.1314 - val_loss: 0.1337\n",
      "Epoch 31/50\n",
      "200/200 [==============================] - 8s - loss: 0.1335 - val_loss: 0.1390\n",
      "Epoch 32/50\n",
      "200/200 [==============================] - 6s - loss: 0.1353 - val_loss: 0.1340\n",
      "Epoch 33/50\n",
      "200/200 [==============================] - 6s - loss: 0.1313 - val_loss: 0.1333\n",
      "Epoch 34/50\n",
      "200/200 [==============================] - 6s - loss: 0.1312 - val_loss: 0.1340\n",
      "Epoch 35/50\n",
      "200/200 [==============================] - 6s - loss: 0.1312 - val_loss: 0.1332\n",
      "Epoch 36/50\n",
      "200/200 [==============================] - 6s - loss: 0.1310 - val_loss: 0.1331\n",
      "Epoch 37/50\n",
      "200/200 [==============================] - 7s - loss: 0.1307 - val_loss: 0.1331\n",
      "Epoch 38/50\n",
      "200/200 [==============================] - 5s - loss: 0.1307 - val_loss: 0.1330\n",
      "Epoch 39/50\n",
      "200/200 [==============================] - 7s - loss: 0.1305 - val_loss: 0.1327\n",
      "Epoch 40/50\n",
      "200/200 [==============================] - 9s - loss: 0.1304 - val_loss: 0.1328\n",
      "Epoch 41/50\n",
      "200/200 [==============================] - 6s - loss: 0.1304 - val_loss: 0.1326\n",
      "Epoch 42/50\n",
      "200/200 [==============================] - 8s - loss: 0.1302 - val_loss: 0.1324\n",
      "Epoch 43/50\n",
      "200/200 [==============================] - 6s - loss: 0.1302 - val_loss: 0.1323\n",
      "Epoch 44/50\n",
      "200/200 [==============================] - 6s - loss: 0.1301 - val_loss: 0.1324\n",
      "Epoch 45/50\n",
      "200/200 [==============================] - 7s - loss: 0.1299 - val_loss: 0.1322\n",
      "Epoch 46/50\n",
      "200/200 [==============================] - 6s - loss: 0.1299 - val_loss: 0.1321\n",
      "Epoch 47/50\n",
      "200/200 [==============================] - 6s - loss: 0.1297 - val_loss: 0.1319\n",
      "Epoch 48/50\n",
      "200/200 [==============================] - 6s - loss: 0.1296 - val_loss: 0.1318\n",
      "Epoch 49/50\n",
      "200/200 [==============================] - 7s - loss: 0.1295 - val_loss: 0.1317\n",
      "Epoch 50/50\n",
      "200/200 [==============================] - 6s - loss: 0.1294 - val_loss: 0.1320\n"
     ]
    },
    {
     "data": {
      "text/plain": [
       "<keras.callbacks.History at 0x11f822a58>"
      ]
     },
     "execution_count": 12,
     "metadata": {},
     "output_type": "execute_result"
    }
   ],
   "source": [
    "model.fit(train_input, train_label, batch_size=30, epochs=50, validation_data=(valid_input, valid_label))"
   ]
  },
  {
   "cell_type": "code",
   "execution_count": 13,
   "metadata": {
    "scrolled": true
   },
   "outputs": [
    {
     "data": {
      "text/plain": [
       "<matplotlib.image.AxesImage at 0x11f7bd550>"
      ]
     },
     "execution_count": 13,
     "metadata": {},
     "output_type": "execute_result"
    },
    {
     "data": {
      "image/png": "[encoded data removed]",
      "text/plain": [
       "<matplotlib.figure.Figure at 0x11c416f28>"
      ]
     },
     "metadata": {},
     "output_type": "display_data"
    }
   ],
   "source": [
    "img = get_smple('./cman.jpg', True, True)\n",
    "\n",
    "inp = np.array([img])\n",
    "prediction = model.predict(inp)[0]\n",
    "plt.imshow(prediction, cmap='gray')"
   ]
  },
  {
   "cell_type": "markdown",
   "metadata": {},
   "source": [
    "## Understanding what's goind on..."
   ]
  },
  {
   "cell_type": "code",
   "execution_count": 14,
   "metadata": {},
   "outputs": [
    {
     "data": {
      "image/svg+xml": [
       "<svg height=\"264pt\" viewBox=\"0.00 0.00 201.95 264.00\" width=\"202pt\" xmlns=\"http://www.w3.org/2000/svg\" xmlns:xlink=\"http://www.w3.org/1999/xlink\">\n",
       "<g class=\"graph\" id=\"graph0\" transform=\"scale(1 1) rotate(0) translate(4 260)\">\n",
       "<title>G</title>\n",
       "<polygon fill=\"#ffffff\" points=\"-4,4 -4,-260 197.9482,-260 197.9482,4 -4,4\" stroke=\"transparent\"/>\n",
       "<!-- 5278416288 -->\n",
       "<g class=\"node\" id=\"node1\">\n",
       "<title>5278416288</title>\n",
       "<polygon fill=\"none\" points=\"39.793,-219.5 39.793,-255.5 154.1553,-255.5 154.1553,-219.5 39.793,-219.5\" stroke=\"#000000\"/>\n",
       "<text fill=\"#000000\" font-family=\"Times,serif\" font-size=\"14.00\" text-anchor=\"middle\" x=\"96.9741\" y=\"-233.3\">input: InputLayer</text>\n",
       "</g>\n",
       "<!-- 5278415896 -->\n",
       "<g class=\"node\" id=\"node2\">\n",
       "<title>5278415896</title>\n",
       "<polygon fill=\"none\" points=\"0,-146.5 0,-182.5 87.9482,-182.5 87.9482,-146.5 0,-146.5\" stroke=\"#000000\"/>\n",
       "<text fill=\"#000000\" font-family=\"Times,serif\" font-size=\"14.00\" text-anchor=\"middle\" x=\"43.9741\" y=\"-160.3\">Gx: Conv2D</text>\n",
       "</g>\n",
       "<!-- 5278416288&#45;&gt;5278415896 -->\n",
       "<g class=\"edge\" id=\"edge1\">\n",
       "<title>5278416288-&gt;5278415896</title>\n",
       "<path d=\"M83.873,-219.4551C77.6301,-210.8564 70.0409,-200.4034 63.1642,-190.9316\" fill=\"none\" stroke=\"#000000\"/>\n",
       "<polygon fill=\"#000000\" points=\"65.8156,-188.6262 57.1082,-182.5904 60.1511,-192.7388 65.8156,-188.6262\" stroke=\"#000000\"/>\n",
       "</g>\n",
       "<!-- 5278416344 -->\n",
       "<g class=\"node\" id=\"node3\">\n",
       "<title>5278416344</title>\n",
       "<polygon fill=\"none\" points=\"106,-146.5 106,-182.5 193.9482,-182.5 193.9482,-146.5 106,-146.5\" stroke=\"#000000\"/>\n",
       "<text fill=\"#000000\" font-family=\"Times,serif\" font-size=\"14.00\" text-anchor=\"middle\" x=\"149.9741\" y=\"-160.3\">Gy: Conv2D</text>\n",
       "</g>\n",
       "<!-- 5278416288&#45;&gt;5278416344 -->\n",
       "<g class=\"edge\" id=\"edge2\">\n",
       "<title>5278416288-&gt;5278416344</title>\n",
       "<path d=\"M110.0752,-219.4551C116.3181,-210.8564 123.9073,-200.4034 130.784,-190.9316\" fill=\"none\" stroke=\"#000000\"/>\n",
       "<polygon fill=\"#000000\" points=\"133.7971,-192.7388 136.84,-182.5904 128.1326,-188.6262 133.7971,-192.7388\" stroke=\"#000000\"/>\n",
       "</g>\n",
       "<!-- 5278416736 -->\n",
       "<g class=\"node\" id=\"node4\">\n",
       "<title>5278416736</title>\n",
       "<polygon fill=\"none\" points=\"27.3447,-73.5 27.3447,-109.5 166.6035,-109.5 166.6035,-73.5 27.3447,-73.5\" stroke=\"#000000\"/>\n",
       "<text fill=\"#000000\" font-family=\"Times,serif\" font-size=\"14.00\" text-anchor=\"middle\" x=\"96.9741\" y=\"-87.3\">G: CombineGradients</text>\n",
       "</g>\n",
       "<!-- 5278415896&#45;&gt;5278416736 -->\n",
       "<g class=\"edge\" id=\"edge3\">\n",
       "<title>5278415896-&gt;5278416736</title>\n",
       "<path d=\"M57.0752,-146.4551C63.3181,-137.8564 70.9073,-127.4034 77.784,-117.9316\" fill=\"none\" stroke=\"#000000\"/>\n",
       "<polygon fill=\"#000000\" points=\"80.7971,-119.7388 83.84,-109.5904 75.1326,-115.6262 80.7971,-119.7388\" stroke=\"#000000\"/>\n",
       "</g>\n",
       "<!-- 5278416344&#45;&gt;5278416736 -->\n",
       "<g class=\"edge\" id=\"edge4\">\n",
       "<title>5278416344-&gt;5278416736</title>\n",
       "<path d=\"M136.873,-146.4551C130.6301,-137.8564 123.0409,-127.4034 116.1642,-117.9316\" fill=\"none\" stroke=\"#000000\"/>\n",
       "<polygon fill=\"#000000\" points=\"118.8156,-115.6262 110.1082,-109.5904 113.1511,-119.7388 118.8156,-115.6262\" stroke=\"#000000\"/>\n",
       "</g>\n",
       "<!-- 4824043360 -->\n",
       "<g class=\"node\" id=\"node5\">\n",
       "<title>4824043360</title>\n",
       "<polygon fill=\"none\" points=\"37.8481,-.5 37.8481,-36.5 156.1001,-36.5 156.1001,-.5 37.8481,-.5\" stroke=\"#000000\"/>\n",
       "<text fill=\"#000000\" font-family=\"Times,serif\" font-size=\"14.00\" text-anchor=\"middle\" x=\"96.9741\" y=\"-14.3\">output: Normalize</text>\n",
       "</g>\n",
       "<!-- 5278416736&#45;&gt;4824043360 -->\n",
       "<g class=\"edge\" id=\"edge5\">\n",
       "<title>5278416736-&gt;4824043360</title>\n",
       "<path d=\"M96.9741,-73.4551C96.9741,-65.3828 96.9741,-55.6764 96.9741,-46.6817\" fill=\"none\" stroke=\"#000000\"/>\n",
       "<polygon fill=\"#000000\" points=\"100.4742,-46.5903 96.9741,-36.5904 93.4742,-46.5904 100.4742,-46.5903\" stroke=\"#000000\"/>\n",
       "</g>\n",
       "</g>\n",
       "</svg>"
      ],
      "text/plain": [
       "<IPython.core.display.SVG object>"
      ]
     },
     "execution_count": 14,
     "metadata": {},
     "output_type": "execute_result"
    }
   ],
   "source": [
    "from IPython.display import SVG\n",
    "from keras.utils.vis_utils import model_to_dot\n",
    "SVG(model_to_dot(model).create(prog='dot', format='svg'))"
   ]
  },
  {
   "cell_type": "code",
   "execution_count": 15,
   "metadata": {},
   "outputs": [
    {
     "name": "stdout",
     "output_type": "stream",
     "text": [
      "Filter in X direction:\n",
      "[[-0.26965412  0.59984297  0.0251577 ]\n",
      " [-0.06543136 -0.28820831 -0.29859   ]\n",
      " [-0.3085236   0.27895501  0.33002526]]\n",
      "\n",
      "Filter in Y direction\n",
      "[[-0.06757317  0.42253894 -0.29630145]\n",
      " [-0.13084354  0.49114498 -0.44435886]\n",
      " [-0.35281268  0.37155992 -0.02089672]]\n"
     ]
    }
   ],
   "source": [
    "Gx = model.layers[1]\n",
    "Gy = model.layers[2]\n",
    "\n",
    "filterX = np.reshape(Gx.get_weights()[0], newshape=(3, 3))\n",
    "filterY = np.reshape(Gy.get_weights()[0], newshape=(3, 3))\n",
    "print('Filter in X direction:')\n",
    "print(filterX)\n",
    "print('\\nFilter in Y direction')\n",
    "print(filterY)"
   ]
  },
  {
   "cell_type": "code",
   "execution_count": null,
   "metadata": {},
   "outputs": [],
   "source": []
  }
 ],
 "metadata": {
  "kernelspec": {
   "display_name": "Python 3",
   "language": "python",
   "name": "python3"
  },
  "language_info": {
   "codemirror_mode": {
    "name": "ipython",
    "version": 3
   },
   "file_extension": ".py",
   "mimetype": "text/x-python",
   "name": "python",
   "nbconvert_exporter": "python",
   "pygments_lexer": "ipython3",
   "version": "3.6.3"
  }
 },
 "nbformat": 4,
 "nbformat_minor": 2
}
