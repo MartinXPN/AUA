{
 "cells": [
  {
   "cell_type": "code",
   "execution_count": 1,
   "metadata": {},
   "outputs": [
    {
     "name": "stderr",
     "output_type": "stream",
     "text": [
      "Using TensorFlow backend.\n"
     ]
    }
   ],
   "source": [
    "import keras\n",
    "\n",
    "from scipy.ndimage.filters import gaussian_filter\n",
    "from scipy import misc\n",
    "import matplotlib.pyplot as plt\n",
    "import numpy as np\n",
    "%matplotlib inline"
   ]
  },
  {
   "cell_type": "code",
   "execution_count": 2,
   "metadata": {},
   "outputs": [],
   "source": [
    "from keras import backend as K\n",
    "from keras.engine.topology import Layer\n",
    "import numpy as np\n",
    "\n",
    "class CombineGradients(Layer):\n",
    "    def __init__(self, **kwargs):\n",
    "        super(CombineGradients, self).__init__(**kwargs)\n",
    "\n",
    "    def call(self, inputs, **kwargs):\n",
    "        Gx = inputs[0]\n",
    "        Gy = inputs[1]\n",
    "        grad = K.sqrt( Gx**2 + Gy**2 )\n",
    "        return grad\n",
    "\n",
    "    def compute_output_shape(self, input_shape):\n",
    "        return input_shape[0]"
   ]
  },
  {
   "cell_type": "code",
   "execution_count": 3,
   "metadata": {},
   "outputs": [],
   "source": [
    "class Normalize(Layer):\n",
    "    def __init__(self, **kwargs):\n",
    "        super(Normalize, self).__init__(**kwargs)\n",
    "    \n",
    "    def call(self, inputs, **kwargs):\n",
    "        res = K.identity(inputs[:, :, :, 0])\n",
    "        \n",
    "        minimum = K.min(res, axis=1)\n",
    "        minimum = K.min(minimum, axis=1)\n",
    "        minimum = K.repeat_elements(minimum, 256, axis=0)\n",
    "        minimum = K.reshape(minimum, shape=(K.shape(res)[0], 256))\n",
    "        minimum = K.repeat(minimum, 256)\n",
    "        res -= minimum\n",
    "        print(minimum)\n",
    "\n",
    "        maximum = K.max(res, axis=1)\n",
    "        maximum = K.max(maximum, axis=1)\n",
    "        maximum = K.repeat_elements(maximum, 256, axis=0)\n",
    "        maximum = K.reshape(maximum, shape=(K.shape(res)[0], 256))\n",
    "        maximum = K.repeat(maximum, 256)\n",
    "        res *= K.constant(1.) / maximum\n",
    "        return res\n",
    "    \n",
    "    def compute_output_shape(self, input_shape):\n",
    "        return input_shape[:-1]"
   ]
  },
  {
   "cell_type": "code",
   "execution_count": 4,
   "metadata": {
    "scrolled": true
   },
   "outputs": [
    {
     "name": "stdout",
     "output_type": "stream",
     "text": [
      "Tensor(\"output/Tile_1:0\", shape=(?, 256, 256), dtype=float32)\n",
      "____________________________________________________________________________________________________\n",
      "Layer (type)                     Output Shape          Param #     Connected to                     \n",
      "====================================================================================================\n",
      "input (InputLayer)               (None, None, None, 1) 0                                            \n",
      "____________________________________________________________________________________________________\n",
      "Gx (Conv2D)                      (None, None, None, 1) 10          input[0][0]                      \n",
      "____________________________________________________________________________________________________\n",
      "Gy (Conv2D)                      (None, None, None, 1) 10          input[0][0]                      \n",
      "____________________________________________________________________________________________________\n",
      "G (CombineGradients)             (None, None, None, 1) 0           Gx[0][0]                         \n",
      "                                                                   Gy[0][0]                         \n",
      "____________________________________________________________________________________________________\n",
      "output (Normalize)               (None, None, None)    0           G[0][0]                          \n",
      "====================================================================================================\n",
      "Total params: 20\n",
      "Trainable params: 20\n",
      "Non-trainable params: 0\n",
      "____________________________________________________________________________________________________\n"
     ]
    }
   ],
   "source": [
    "from keras.layers import Input\n",
    "from keras.layers import Conv2D\n",
    "from keras.models import Model\n",
    "\n",
    "input_layer = Input(shape=(None, None, 1), name='input')\n",
    "Gx = Conv2D(filters=1, kernel_size=(3, 3), padding='same', name='Gx')(input_layer)\n",
    "Gy = Conv2D(filters=1, kernel_size=(3, 3), padding='same', name='Gy')(input_layer)\n",
    "grad = CombineGradients(name='G')([Gx, Gy])\n",
    "out = Normalize(name='output')(grad)\n",
    "\n",
    "model = Model(inputs=input_layer, outputs=out)\n",
    "model.compile(optimizer='adam', loss='mse')\n",
    "\n",
    "model.summary()"
   ]
  },
  {
   "cell_type": "code",
   "execution_count": 5,
   "metadata": {},
   "outputs": [],
   "source": [
    "def get_smple(path, scale, reshape):\n",
    "    img = misc.imread(path, mode='L')\n",
    "    img = misc.imresize(img, size=(256, 256))\n",
    "    img = np.array(img, dtype=np.float32)\n",
    "    if reshape:\n",
    "        img = np.reshape(img, newshape=img.shape+(1,))\n",
    "    if scale:\n",
    "        img /= 255.\n",
    "    return img\n",
    "\n",
    "def get_data(paths, scale=False, reshape=True):\n",
    "    res = []\n",
    "    for path in paths:\n",
    "        res.append(get_smple(path, scale, reshape))\n",
    "    return np.array(res, dtype=np.float32)"
   ]
  },
  {
   "cell_type": "code",
   "execution_count": 6,
   "metadata": {},
   "outputs": [
    {
     "name": "stdout",
     "output_type": "stream",
     "text": [
      "200 200 100\n",
      "200 200 100\n"
     ]
    }
   ],
   "source": [
    "import os\n",
    "train_input_paths = ['./BSDS500/images/train/'+path for path in os.listdir('./BSDS500/images/train/') if path.endswith('.jpg')]\n",
    "test_input_paths = ['./BSDS500/images/test/'+path for path in os.listdir('./BSDS500/images/test/') if path.endswith('.jpg')]\n",
    "valid_input_paths = ['./BSDS500/images/val/'+path for path in os.listdir('./BSDS500/images/val/') if path.endswith('.jpg')]\n",
    "train_input = get_data(train_input_paths, True)\n",
    "test_input = get_data(test_input_paths, True)\n",
    "valid_input = get_data(valid_input_paths, True)\n",
    "\n",
    "train_label_paths = ['./BSDS500/labels/train/'+path for path in os.listdir('./BSDS500/labels/train/') if path.endswith('-1.jpg')]\n",
    "test_label_paths = ['./BSDS500/labels/test/'+path for path in os.listdir('./BSDS500/labels/test/') if path.endswith('-1.jpg')]\n",
    "valid_label_paths = ['./BSDS500/labels/valid/'+path for path in os.listdir('./BSDS500/labels/valid/') if path.endswith('-1.jpg')]\n",
    "train_label = get_data(train_label_paths, True, False)\n",
    "test_label = get_data(test_label_paths, True, False)\n",
    "valid_label = get_data(valid_label_paths, True, False)\n",
    "\n",
    "print(len(train_input_paths), len(test_input_paths), len(valid_input_paths))\n",
    "print(len(train_label_paths), len(test_label_paths), len(valid_label_paths))"
   ]
  },
  {
   "cell_type": "code",
   "execution_count": 7,
   "metadata": {},
   "outputs": [
    {
     "name": "stdout",
     "output_type": "stream",
     "text": [
      "200/200 [==============================] - 1s     \n"
     ]
    },
    {
     "data": {
      "text/plain": [
       "0.18166521191596985"
      ]
     },
     "execution_count": 7,
     "metadata": {},
     "output_type": "execute_result"
    }
   ],
   "source": [
    "model.evaluate(train_input, train_label)"
   ]
  },
  {
   "cell_type": "code",
   "execution_count": 31,
   "metadata": {
    "scrolled": false
   },
   "outputs": [
    {
     "name": "stdout",
     "output_type": "stream",
     "text": [
      "Train on 200 samples, validate on 100 samples\n",
      "Epoch 1/50\n",
      "200/200 [==============================] - 5s - loss: 0.1748 - val_loss: 0.1562\n",
      "Epoch 2/50\n",
      "200/200 [==============================] - 5s - loss: 0.1572 - val_loss: 0.1392\n",
      "Epoch 3/50\n",
      "200/200 [==============================] - 5s - loss: 0.1384 - val_loss: 0.1204\n",
      "Epoch 4/50\n",
      "200/200 [==============================] - 5s - loss: 0.1179 - val_loss: 0.0997\n",
      "Epoch 5/50\n",
      "200/200 [==============================] - 5s - loss: 0.0944 - val_loss: 0.0768\n",
      "Epoch 6/50\n",
      "200/200 [==============================] - 5s - loss: 0.0699 - val_loss: 0.0524\n",
      "Epoch 7/50\n",
      "200/200 [==============================] - 5s - loss: 0.0450 - val_loss: 0.0327\n",
      "Epoch 8/50\n",
      "200/200 [==============================] - 5s - loss: 0.0282 - val_loss: 0.0239\n",
      "Epoch 9/50\n",
      "200/200 [==============================] - 5s - loss: 0.0221 - val_loss: 0.0224\n",
      "Epoch 10/50\n",
      "200/200 [==============================] - 5s - loss: 0.0213 - val_loss: 0.0219\n",
      "Epoch 11/50\n",
      "200/200 [==============================] - 5s - loss: 0.0208 - val_loss: 0.0215\n",
      "Epoch 12/50\n",
      "200/200 [==============================] - 5s - loss: 0.0205 - val_loss: 0.0211\n",
      "Epoch 13/50\n",
      "200/200 [==============================] - 5s - loss: 0.0202 - val_loss: 0.0207\n",
      "Epoch 14/50\n",
      "200/200 [==============================] - 5s - loss: 0.0198 - val_loss: 0.0203\n",
      "Epoch 15/50\n",
      "200/200 [==============================] - 5s - loss: 0.0195 - val_loss: 0.0201\n",
      "Epoch 16/50\n",
      "200/200 [==============================] - 5s - loss: 0.0193 - val_loss: 0.0199\n",
      "Epoch 17/50\n",
      "200/200 [==============================] - 5s - loss: 0.0191 - val_loss: 0.0197\n",
      "Epoch 18/50\n",
      "200/200 [==============================] - 5s - loss: 0.0189 - val_loss: 0.0195\n",
      "Epoch 19/50\n",
      "200/200 [==============================] - 5s - loss: 0.0187 - val_loss: 0.0193\n",
      "Epoch 20/50\n",
      "200/200 [==============================] - 5s - loss: 0.0186 - val_loss: 0.0191\n",
      "Epoch 21/50\n",
      "200/200 [==============================] - 5s - loss: 0.0184 - val_loss: 0.0190\n",
      "Epoch 22/50\n",
      "200/200 [==============================] - 5s - loss: 0.0183 - val_loss: 0.0188\n",
      "Epoch 23/50\n",
      "200/200 [==============================] - 5s - loss: 0.0182 - val_loss: 0.0187\n",
      "Epoch 24/50\n",
      "200/200 [==============================] - 5s - loss: 0.0181 - val_loss: 0.0186\n",
      "Epoch 25/50\n",
      "200/200 [==============================] - 5s - loss: 0.0180 - val_loss: 0.0185\n",
      "Epoch 26/50\n",
      "200/200 [==============================] - 5s - loss: 0.0179 - val_loss: 0.0184\n",
      "Epoch 27/50\n",
      "200/200 [==============================] - 5s - loss: 0.0178 - val_loss: 0.0184\n",
      "Epoch 28/50\n",
      "200/200 [==============================] - 5s - loss: 0.0177 - val_loss: 0.0182\n",
      "Epoch 29/50\n",
      "200/200 [==============================] - 5s - loss: 0.0176 - val_loss: 0.0181\n",
      "Epoch 30/50\n",
      "200/200 [==============================] - 5s - loss: 0.0176 - val_loss: 0.0181\n",
      "Epoch 31/50\n",
      "200/200 [==============================] - 5s - loss: 0.0175 - val_loss: 0.0180\n",
      "Epoch 32/50\n",
      "200/200 [==============================] - 5s - loss: 0.0174 - val_loss: 0.0180\n",
      "Epoch 33/50\n",
      "200/200 [==============================] - 5s - loss: 0.0174 - val_loss: 0.0179\n",
      "Epoch 34/50\n",
      "200/200 [==============================] - 5s - loss: 0.0173 - val_loss: 0.0179\n",
      "Epoch 35/50\n",
      "200/200 [==============================] - 5s - loss: 0.0173 - val_loss: 0.0178\n",
      "Epoch 36/50\n",
      "200/200 [==============================] - 5s - loss: 0.0173 - val_loss: 0.0178\n",
      "Epoch 37/50\n",
      "200/200 [==============================] - 5s - loss: 0.0172 - val_loss: 0.0177\n",
      "Epoch 38/50\n",
      "200/200 [==============================] - 5s - loss: 0.0172 - val_loss: 0.0177\n",
      "Epoch 39/50\n",
      "200/200 [==============================] - 5s - loss: 0.0172 - val_loss: 0.0177\n",
      "Epoch 40/50\n",
      "200/200 [==============================] - 5s - loss: 0.0171 - val_loss: 0.0176\n",
      "Epoch 41/50\n",
      "200/200 [==============================] - 5s - loss: 0.0171 - val_loss: 0.0176\n",
      "Epoch 42/50\n",
      "200/200 [==============================] - 5s - loss: 0.0171 - val_loss: 0.0176\n",
      "Epoch 43/50\n",
      "200/200 [==============================] - 5s - loss: 0.0170 - val_loss: 0.0175\n",
      "Epoch 44/50\n",
      "200/200 [==============================] - 5s - loss: 0.0170 - val_loss: 0.0175\n",
      "Epoch 45/50\n",
      "200/200 [==============================] - 5s - loss: 0.0170 - val_loss: 0.0174\n",
      "Epoch 46/50\n",
      "200/200 [==============================] - 5s - loss: 0.0170 - val_loss: 0.0174\n",
      "Epoch 47/50\n",
      "200/200 [==============================] - 5s - loss: 0.0170 - val_loss: 0.0175\n",
      "Epoch 48/50\n",
      "200/200 [==============================] - 5s - loss: 0.0169 - val_loss: 0.0174\n",
      "Epoch 49/50\n",
      "200/200 [==============================] - 5s - loss: 0.0169 - val_loss: 0.0174\n",
      "Epoch 50/50\n",
      "200/200 [==============================] - 5s - loss: 0.0169 - val_loss: 0.0173\n"
     ]
    },
    {
     "data": {
      "text/plain": [
       "<keras.callbacks.History at 0x120caaeb8>"
      ]
     },
     "execution_count": 31,
     "metadata": {},
     "output_type": "execute_result"
    }
   ],
   "source": [
    "model.fit(train_input, train_label, batch_size=30, epochs=50, validation_data=(valid_input, valid_label))"
   ]
  },
  {
   "cell_type": "code",
   "execution_count": 32,
   "metadata": {
    "scrolled": true
   },
   "outputs": [
    {
     "data": {
      "text/plain": [
       "<matplotlib.image.AxesImage at 0x11de8d390>"
      ]
     },
     "execution_count": 32,
     "metadata": {},
     "output_type": "execute_result"
    },
    {
     "data": {
      "image/png": "[encoded data removed]",
      "text/plain": [
       "<matplotlib.figure.Figure at 0x120cbc4e0>"
      ]
     },
     "metadata": {},
     "output_type": "display_data"
    }
   ],
   "source": [
    "img = get_smple('./cman.jpg', True, True)\n",
    "\n",
    "inp = np.array([img])\n",
    "prediction = model.predict(inp)[0]\n",
    "plt.imshow(prediction, cmap='gray')"
   ]
  },
  {
   "cell_type": "markdown",
   "metadata": {},
   "source": [
    "## Understanding what's goind on..."
   ]
  },
  {
   "cell_type": "code",
   "execution_count": 33,
   "metadata": {},
   "outputs": [
    {
     "data": {
      "image/svg+xml": [
       "<svg height=\"264pt\" viewBox=\"0.00 0.00 201.95 264.00\" width=\"202pt\" xmlns=\"http://www.w3.org/2000/svg\" xmlns:xlink=\"http://www.w3.org/1999/xlink\">\n",
       "<g class=\"graph\" id=\"graph0\" transform=\"scale(1 1) rotate(0) translate(4 260)\">\n",
       "<title>G</title>\n",
       "<polygon fill=\"#ffffff\" points=\"-4,4 -4,-260 197.9482,-260 197.9482,4 -4,4\" stroke=\"transparent\"/>\n",
       "<!-- 4792951416 -->\n",
       "<g class=\"node\" id=\"node1\">\n",
       "<title>4792951416</title>\n",
       "<polygon fill=\"none\" points=\"39.793,-219.5 39.793,-255.5 154.1553,-255.5 154.1553,-219.5 39.793,-219.5\" stroke=\"#000000\"/>\n",
       "<text fill=\"#000000\" font-family=\"Times,serif\" font-size=\"14.00\" text-anchor=\"middle\" x=\"96.9741\" y=\"-233.3\">input: InputLayer</text>\n",
       "</g>\n",
       "<!-- 4539885216 -->\n",
       "<g class=\"node\" id=\"node2\">\n",
       "<title>4539885216</title>\n",
       "<polygon fill=\"none\" points=\"0,-146.5 0,-182.5 87.9482,-182.5 87.9482,-146.5 0,-146.5\" stroke=\"#000000\"/>\n",
       "<text fill=\"#000000\" font-family=\"Times,serif\" font-size=\"14.00\" text-anchor=\"middle\" x=\"43.9741\" y=\"-160.3\">Gx: Conv2D</text>\n",
       "</g>\n",
       "<!-- 4792951416&#45;&gt;4539885216 -->\n",
       "<g class=\"edge\" id=\"edge1\">\n",
       "<title>4792951416-&gt;4539885216</title>\n",
       "<path d=\"M83.873,-219.4551C77.6301,-210.8564 70.0409,-200.4034 63.1642,-190.9316\" fill=\"none\" stroke=\"#000000\"/>\n",
       "<polygon fill=\"#000000\" points=\"65.8156,-188.6262 57.1082,-182.5904 60.1511,-192.7388 65.8156,-188.6262\" stroke=\"#000000\"/>\n",
       "</g>\n",
       "<!-- 4539994744 -->\n",
       "<g class=\"node\" id=\"node3\">\n",
       "<title>4539994744</title>\n",
       "<polygon fill=\"none\" points=\"106,-146.5 106,-182.5 193.9482,-182.5 193.9482,-146.5 106,-146.5\" stroke=\"#000000\"/>\n",
       "<text fill=\"#000000\" font-family=\"Times,serif\" font-size=\"14.00\" text-anchor=\"middle\" x=\"149.9741\" y=\"-160.3\">Gy: Conv2D</text>\n",
       "</g>\n",
       "<!-- 4792951416&#45;&gt;4539994744 -->\n",
       "<g class=\"edge\" id=\"edge2\">\n",
       "<title>4792951416-&gt;4539994744</title>\n",
       "<path d=\"M110.0752,-219.4551C116.3181,-210.8564 123.9073,-200.4034 130.784,-190.9316\" fill=\"none\" stroke=\"#000000\"/>\n",
       "<polygon fill=\"#000000\" points=\"133.7971,-192.7388 136.84,-182.5904 128.1326,-188.6262 133.7971,-192.7388\" stroke=\"#000000\"/>\n",
       "</g>\n",
       "<!-- 4793581464 -->\n",
       "<g class=\"node\" id=\"node4\">\n",
       "<title>4793581464</title>\n",
       "<polygon fill=\"none\" points=\"27.3447,-73.5 27.3447,-109.5 166.6035,-109.5 166.6035,-73.5 27.3447,-73.5\" stroke=\"#000000\"/>\n",
       "<text fill=\"#000000\" font-family=\"Times,serif\" font-size=\"14.00\" text-anchor=\"middle\" x=\"96.9741\" y=\"-87.3\">G: CombineGradients</text>\n",
       "</g>\n",
       "<!-- 4539885216&#45;&gt;4793581464 -->\n",
       "<g class=\"edge\" id=\"edge3\">\n",
       "<title>4539885216-&gt;4793581464</title>\n",
       "<path d=\"M57.0752,-146.4551C63.3181,-137.8564 70.9073,-127.4034 77.784,-117.9316\" fill=\"none\" stroke=\"#000000\"/>\n",
       "<polygon fill=\"#000000\" points=\"80.7971,-119.7388 83.84,-109.5904 75.1326,-115.6262 80.7971,-119.7388\" stroke=\"#000000\"/>\n",
       "</g>\n",
       "<!-- 4539994744&#45;&gt;4793581464 -->\n",
       "<g class=\"edge\" id=\"edge4\">\n",
       "<title>4539994744-&gt;4793581464</title>\n",
       "<path d=\"M136.873,-146.4551C130.6301,-137.8564 123.0409,-127.4034 116.1642,-117.9316\" fill=\"none\" stroke=\"#000000\"/>\n",
       "<polygon fill=\"#000000\" points=\"118.8156,-115.6262 110.1082,-109.5904 113.1511,-119.7388 118.8156,-115.6262\" stroke=\"#000000\"/>\n",
       "</g>\n",
       "<!-- 4792952256 -->\n",
       "<g class=\"node\" id=\"node5\">\n",
       "<title>4792952256</title>\n",
       "<polygon fill=\"none\" points=\"37.8481,-.5 37.8481,-36.5 156.1001,-36.5 156.1001,-.5 37.8481,-.5\" stroke=\"#000000\"/>\n",
       "<text fill=\"#000000\" font-family=\"Times,serif\" font-size=\"14.00\" text-anchor=\"middle\" x=\"96.9741\" y=\"-14.3\">output: Normalize</text>\n",
       "</g>\n",
       "<!-- 4793581464&#45;&gt;4792952256 -->\n",
       "<g class=\"edge\" id=\"edge5\">\n",
       "<title>4793581464-&gt;4792952256</title>\n",
       "<path d=\"M96.9741,-73.4551C96.9741,-65.3828 96.9741,-55.6764 96.9741,-46.6817\" fill=\"none\" stroke=\"#000000\"/>\n",
       "<polygon fill=\"#000000\" points=\"100.4742,-46.5903 96.9741,-36.5904 93.4742,-46.5904 100.4742,-46.5903\" stroke=\"#000000\"/>\n",
       "</g>\n",
       "</g>\n",
       "</svg>"
      ],
      "text/plain": [
       "<IPython.core.display.SVG object>"
      ]
     },
     "execution_count": 33,
     "metadata": {},
     "output_type": "execute_result"
    }
   ],
   "source": [
    "from IPython.display import SVG\n",
    "from keras.utils.vis_utils import model_to_dot\n",
    "SVG(model_to_dot(model).create(prog='dot', format='svg'))"
   ]
  },
  {
   "cell_type": "code",
   "execution_count": 36,
   "metadata": {},
   "outputs": [
    {
     "name": "stdout",
     "output_type": "stream",
     "text": [
      "Filter in X direction:\n",
      "[[ 0.1577443   0.06296942 -0.12551512]\n",
      " [-0.37376043  0.19927971  0.17650093]\n",
      " [-0.0324425   0.11381755 -0.14976418]]\n",
      "\n",
      "Filter in Y direction\n",
      "[[ 0.5702318  -0.33518669  0.46415609]\n",
      " [-0.38388076 -0.21090673 -0.14031193]\n",
      " [-0.40298557  0.14107516  0.30386958]]\n"
     ]
    }
   ],
   "source": [
    "Gx = model.layers[1]\n",
    "Gy = model.layers[2]\n",
    "\n",
    "filterX = np.reshape(Gx.get_weights()[0], newshape=(3, 3))\n",
    "filterY = np.reshape(Gy.get_weights()[0], newshape=(3, 3))\n",
    "print('Filter in X direction:')\n",
    "print(filterX)\n",
    "print('\\nFilter in Y direction')\n",
    "print(filterY)"
   ]
  },
  {
   "cell_type": "code",
   "execution_count": null,
   "metadata": {},
   "outputs": [],
   "source": []
  }
 ],
 "metadata": {
  "kernelspec": {
   "display_name": "Python 3",
   "language": "python",
   "name": "python3"
  },
  "language_info": {
   "codemirror_mode": {
    "name": "ipython",
    "version": 3
   },
   "file_extension": ".py",
   "mimetype": "text/x-python",
   "name": "python",
   "nbconvert_exporter": "python",
   "pygments_lexer": "ipython3",
   "version": "3.6.3"
  }
 },
 "nbformat": 4,
 "nbformat_minor": 2
}
