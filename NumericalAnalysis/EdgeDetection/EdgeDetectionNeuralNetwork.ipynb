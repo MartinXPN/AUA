{
 "cells": [
  {
   "cell_type": "markdown",
   "metadata": {},
   "source": [
    "# Edge Detection with Neural Networks\n",
    "\n",
    "In this notebook we present our approach on detecting edges with neural networks. We are using keras deep learning library with tensorflow backend for easy and high-level implementation of the neural network. \n",
    "\n",
    "We make our experiments on `BSDS500` segmentation dataset strictly following the dataset division (i.e. 200 images for training, 100 for validation, and 200 for testing). We generated `.jpg` image labels out of segmentation MatLab files provided in github-mirror of the dataset and compared these images with those predicted by the network.\n",
    "\n",
    "Our approach can be summarised as an attempt of approximating first order derivative approaches (filters) for edge detection. The architecture of the network can be seen visually at the buttom of this notebook. We try to obtain both filters in X and Y directions denoted by `Gx` and `Gy` and combine them with `sqrt( Gx^2 + Gy^2 )`. The result is then normalized to have values `[0...1]`.\n",
    "\n",
    "We also explore and analyse the filters and weights that the network learned during training. And see weather it was really an approximation of one of the first order derivative based algorithm filters or not."
   ]
  },
  {
   "cell_type": "code",
   "execution_count": 1,
   "metadata": {},
   "outputs": [
    {
     "name": "stderr",
     "output_type": "stream",
     "text": [
      "Using TensorFlow backend.\n"
     ]
    }
   ],
   "source": [
    "import keras\n",
    "\n",
    "from scipy.ndimage.filters import gaussian_filter\n",
    "from scipy import misc\n",
    "import matplotlib.pyplot as plt\n",
    "import numpy as np\n",
    "%matplotlib inline"
   ]
  },
  {
   "cell_type": "markdown",
   "metadata": {},
   "source": [
    "### Cusom layers\n",
    "\n",
    "To be able to combine Gx and Gy we needed a custom layer that merged these layers with `sqrt( Gx^2 + Gy^2 )` operation. The first class `CombineGradients` is dedicated for that task.\n",
    "\n",
    "The next operation needed was to normalize the output to the range `[0...1]`. `Normalize` class is doing that operation by reducing minimum for each output image, then dividing it by the resulting maximum of an image."
   ]
  },
  {
   "cell_type": "code",
   "execution_count": 2,
   "metadata": {},
   "outputs": [],
   "source": [
    "from keras import backend as K\n",
    "from keras.engine.topology import Layer\n",
    "import numpy as np\n",
    "\n",
    "class CombineGradients(Layer):\n",
    "    \"\"\"\n",
    "    sqrt( Gx^2 + Gy^2 )\n",
    "    \"\"\"\n",
    "\n",
    "    def call(self, inputs, **kwargs):\n",
    "        Gx = inputs[0]\n",
    "        Gy = inputs[1]\n",
    "        grad = K.sqrt( Gx**2 + Gy**2 )\n",
    "        return grad\n",
    "\n",
    "    def compute_output_shape(self, input_shape):\n",
    "        return input_shape[0]\n",
    "\n",
    "\n",
    "class Normalize(Layer):\n",
    "    \"\"\"\n",
    "    Normalize output of inputs to the range [0...1]\n",
    "    \"\"\"\n",
    "    \n",
    "    def call(self, inputs, **kwargs):\n",
    "        res = K.identity(inputs[:, :, :, 0])\n",
    "        \n",
    "        minimum = K.min(res, axis=1)\n",
    "        minimum = K.min(minimum, axis=1)\n",
    "        minimum = K.repeat_elements(minimum, 256, axis=0)\n",
    "        minimum = K.reshape(minimum, shape=(K.shape(res)[0], 256))\n",
    "        minimum = K.repeat(minimum, 256)\n",
    "        res -= minimum\n",
    "\n",
    "        maximum = K.max(res, axis=1)\n",
    "        maximum = K.max(maximum, axis=1)\n",
    "        maximum = K.repeat_elements(maximum, 256, axis=0)\n",
    "        maximum = K.reshape(maximum, shape=(K.shape(res)[0], 256))\n",
    "        maximum = K.repeat(maximum, 256)\n",
    "        res *= K.constant(1.) / maximum\n",
    "        return res\n",
    "    \n",
    "    def compute_output_shape(self, input_shape):\n",
    "        return input_shape[:-1]"
   ]
  },
  {
   "cell_type": "markdown",
   "metadata": {},
   "source": [
    "### Model construction\n",
    "\n",
    "The input layer is receiving a grayscale image.\n",
    "\n",
    "Both `Gx` and `Gy` are 2D Convolutions applied on the input (similar to Sobel/Prewitt/Robert's operators)\n",
    "\n",
    "After applying convolutional filters, they are merged together to form the resulting gradient and normalized later on.\n",
    "\n",
    "Model is optimized with `Adam` optimzer using loss `binary_crossentropy`"
   ]
  },
  {
   "cell_type": "code",
   "execution_count": 3,
   "metadata": {
    "scrolled": false
   },
   "outputs": [
    {
     "name": "stdout",
     "output_type": "stream",
     "text": [
      "____________________________________________________________________________________________________\n",
      "Layer (type)                     Output Shape          Param #     Connected to                     \n",
      "====================================================================================================\n",
      "input (InputLayer)               (None, None, None, 1) 0                                            \n",
      "____________________________________________________________________________________________________\n",
      "Gx (Conv2D)                      (None, None, None, 1) 10          input[0][0]                      \n",
      "____________________________________________________________________________________________________\n",
      "Gy (Conv2D)                      (None, None, None, 1) 10          input[0][0]                      \n",
      "____________________________________________________________________________________________________\n",
      "G (CombineGradients)             (None, None, None, 1) 0           Gx[0][0]                         \n",
      "                                                                   Gy[0][0]                         \n",
      "____________________________________________________________________________________________________\n",
      "output (Normalize)               (None, None, None)    0           G[0][0]                          \n",
      "====================================================================================================\n",
      "Total params: 20\n",
      "Trainable params: 20\n",
      "Non-trainable params: 0\n",
      "____________________________________________________________________________________________________\n"
     ]
    }
   ],
   "source": [
    "from keras.layers import Input\n",
    "from keras.layers import Conv2D\n",
    "from keras.models import Model\n",
    "\n",
    "input_layer = Input(shape=(None, None, 1), name='input')\n",
    "Gx = Conv2D(filters=1, kernel_size=(3, 3), padding='same', name='Gx')(input_layer)\n",
    "Gy = Conv2D(filters=1, kernel_size=(3, 3), padding='same', name='Gy')(input_layer)\n",
    "grad = CombineGradients(name='G')([Gx, Gy])\n",
    "out = Normalize(name='output')(grad)\n",
    "\n",
    "model = Model(inputs=input_layer, outputs=out)\n",
    "model.compile(optimizer='adam', loss='binary_crossentropy')\n",
    "\n",
    "model.summary()"
   ]
  },
  {
   "cell_type": "markdown",
   "metadata": {},
   "source": [
    "### Helper functions for thesholding and obtaining data"
   ]
  },
  {
   "cell_type": "code",
   "execution_count": 4,
   "metadata": {},
   "outputs": [],
   "source": [
    "from skimage.filters import threshold_otsu, threshold_local\n",
    "\n",
    "def apply_threshold(input_image, threshold, high_value, low_value):\n",
    "    assert input_image.shape == threshold.shape\n",
    "    diff = input_image - threshold\n",
    "    \n",
    "    result = np.ones(shape=input_image.shape) * high_value\n",
    "    low_indices = diff[:,:] < 0\n",
    "    result[low_indices] = low_value\n",
    "    return result\n",
    "\n",
    "def global_otsu_thresholding(input_image, high_value=1, low_value=0):\n",
    "    global_thresh = threshold_otsu(input_image)\n",
    "    return apply_threshold(input_image, \n",
    "                           np.ones(shape=input_image.shape) * global_thresh, \n",
    "                           high_value, \n",
    "                           low_value)"
   ]
  },
  {
   "cell_type": "code",
   "execution_count": 5,
   "metadata": {},
   "outputs": [],
   "source": [
    "def get_smple(path, scale, reshape):\n",
    "    img = misc.imread(path, mode='L')\n",
    "    img = misc.imresize(img, size=(256, 256))\n",
    "    img = np.array(img, dtype=np.float32)\n",
    "    if reshape:\n",
    "        img = np.reshape(img, newshape=img.shape+(1,))\n",
    "    if scale:\n",
    "        img /= 255.\n",
    "    return img\n",
    "\n",
    "def get_data(paths, scale=False, reshape=True):\n",
    "    res = []\n",
    "    for path in paths:\n",
    "        res.append(get_smple(path, scale, reshape))\n",
    "    return np.array(res, dtype=np.float32)"
   ]
  },
  {
   "cell_type": "code",
   "execution_count": 6,
   "metadata": {},
   "outputs": [
    {
     "name": "stdout",
     "output_type": "stream",
     "text": [
      "200 200 100\n",
      "200 200 100\n"
     ]
    }
   ],
   "source": [
    "import os\n",
    "train_input_paths = ['./BSDS500/images/train/'+path for path in os.listdir('./BSDS500/images/train/') if path.endswith('.jpg')]\n",
    "test_input_paths = ['./BSDS500/images/test/'+path for path in os.listdir('./BSDS500/images/test/') if path.endswith('.jpg')]\n",
    "valid_input_paths = ['./BSDS500/images/val/'+path for path in os.listdir('./BSDS500/images/val/') if path.endswith('.jpg')]\n",
    "train_input = get_data(train_input_paths, True)\n",
    "test_input = get_data(test_input_paths, True)\n",
    "valid_input = get_data(valid_input_paths, True)\n",
    "\n",
    "train_label_paths = ['./BSDS500/labels/train/'+path for path in os.listdir('./BSDS500/labels/train/') if path.endswith('-1.jpg')]\n",
    "test_label_paths = ['./BSDS500/labels/test/'+path for path in os.listdir('./BSDS500/labels/test/') if path.endswith('-1.jpg')]\n",
    "valid_label_paths = ['./BSDS500/labels/valid/'+path for path in os.listdir('./BSDS500/labels/valid/') if path.endswith('-1.jpg')]\n",
    "train_label = get_data(train_label_paths, True, False)\n",
    "test_label = get_data(test_label_paths, True, False)\n",
    "valid_label = get_data(valid_label_paths, True, False)\n",
    "\n",
    "print(len(train_input_paths), len(test_input_paths), len(valid_input_paths))\n",
    "print(len(train_label_paths), len(test_label_paths), len(valid_label_paths))"
   ]
  },
  {
   "cell_type": "markdown",
   "metadata": {},
   "source": [
    "## Train the model"
   ]
  },
  {
   "cell_type": "code",
   "execution_count": 8,
   "metadata": {
    "scrolled": true
   },
   "outputs": [
    {
     "data": {
      "text/plain": [
       "<keras.callbacks.History at 0x11545c630>"
      ]
     },
     "execution_count": 8,
     "metadata": {},
     "output_type": "execute_result"
    }
   ],
   "source": [
    "model.fit(train_input, train_label, batch_size=33, epochs=77, validation_data=(valid_input, valid_label), verbose=0)\n",
    "\n",
    "# Save the model after it's trained\n",
    "# model.save('edge_detector.model')"
   ]
  },
  {
   "cell_type": "markdown",
   "metadata": {},
   "source": [
    "## Understanding what's goind on...\n",
    "\n",
    "#### Evaluate the network on one of the most famous images in edge detection"
   ]
  },
  {
   "cell_type": "code",
   "execution_count": 16,
   "metadata": {
    "scrolled": false
   },
   "outputs": [
    {
     "data": {
      "text/plain": [
       "<matplotlib.image.AxesImage at 0x11510f128>"
      ]
     },
     "execution_count": 16,
     "metadata": {},
     "output_type": "execute_result"
    },
    {
     "data": {
      "image/png": "[encoded data removed]",
      "text/plain": [
       "<matplotlib.figure.Figure at 0x114cddb70>"
      ]
     },
     "metadata": {},
     "output_type": "display_data"
    }
   ],
   "source": [
    "img = get_smple('./cman.jpg', True, True)\n",
    "\n",
    "inp = np.array([img])\n",
    "prediction = model.predict(inp)[0]\n",
    "out = global_otsu_thresholding(prediction)\n",
    "plt.imshow(prediction, cmap='gray')"
   ]
  },
  {
   "cell_type": "markdown",
   "metadata": {},
   "source": [
    "#### The architecture of the netwoek is presented below"
   ]
  },
  {
   "cell_type": "code",
   "execution_count": 12,
   "metadata": {
    "scrolled": false
   },
   "outputs": [
    {
     "data": {
      "image/svg+xml": [
       "<svg height=\"264pt\" viewBox=\"0.00 0.00 201.95 264.00\" width=\"202pt\" xmlns=\"http://www.w3.org/2000/svg\" xmlns:xlink=\"http://www.w3.org/1999/xlink\">\n",
       "<g class=\"graph\" id=\"graph0\" transform=\"scale(1 1) rotate(0) translate(4 260)\">\n",
       "<title>G</title>\n",
       "<polygon fill=\"#ffffff\" points=\"-4,4 -4,-260 197.9482,-260 197.9482,4 -4,4\" stroke=\"transparent\"/>\n",
       "<!-- 4608085576 -->\n",
       "<g class=\"node\" id=\"node1\">\n",
       "<title>4608085576</title>\n",
       "<polygon fill=\"none\" points=\"39.793,-219.5 39.793,-255.5 154.1553,-255.5 154.1553,-219.5 39.793,-219.5\" stroke=\"#000000\"/>\n",
       "<text fill=\"#000000\" font-family=\"Times,serif\" font-size=\"14.00\" text-anchor=\"middle\" x=\"96.9741\" y=\"-233.3\">input: InputLayer</text>\n",
       "</g>\n",
       "<!-- 4608085800 -->\n",
       "<g class=\"node\" id=\"node2\">\n",
       "<title>4608085800</title>\n",
       "<polygon fill=\"none\" points=\"0,-146.5 0,-182.5 87.9482,-182.5 87.9482,-146.5 0,-146.5\" stroke=\"#000000\"/>\n",
       "<text fill=\"#000000\" font-family=\"Times,serif\" font-size=\"14.00\" text-anchor=\"middle\" x=\"43.9741\" y=\"-160.3\">Gx: Conv2D</text>\n",
       "</g>\n",
       "<!-- 4608085576&#45;&gt;4608085800 -->\n",
       "<g class=\"edge\" id=\"edge1\">\n",
       "<title>4608085576-&gt;4608085800</title>\n",
       "<path d=\"M83.873,-219.4551C77.6301,-210.8564 70.0409,-200.4034 63.1642,-190.9316\" fill=\"none\" stroke=\"#000000\"/>\n",
       "<polygon fill=\"#000000\" points=\"65.8156,-188.6262 57.1082,-182.5904 60.1511,-192.7388 65.8156,-188.6262\" stroke=\"#000000\"/>\n",
       "</g>\n",
       "<!-- 4608085968 -->\n",
       "<g class=\"node\" id=\"node3\">\n",
       "<title>4608085968</title>\n",
       "<polygon fill=\"none\" points=\"106,-146.5 106,-182.5 193.9482,-182.5 193.9482,-146.5 106,-146.5\" stroke=\"#000000\"/>\n",
       "<text fill=\"#000000\" font-family=\"Times,serif\" font-size=\"14.00\" text-anchor=\"middle\" x=\"149.9741\" y=\"-160.3\">Gy: Conv2D</text>\n",
       "</g>\n",
       "<!-- 4608085576&#45;&gt;4608085968 -->\n",
       "<g class=\"edge\" id=\"edge2\">\n",
       "<title>4608085576-&gt;4608085968</title>\n",
       "<path d=\"M110.0752,-219.4551C116.3181,-210.8564 123.9073,-200.4034 130.784,-190.9316\" fill=\"none\" stroke=\"#000000\"/>\n",
       "<polygon fill=\"#000000\" points=\"133.7971,-192.7388 136.84,-182.5904 128.1326,-188.6262 133.7971,-192.7388\" stroke=\"#000000\"/>\n",
       "</g>\n",
       "<!-- 4608035976 -->\n",
       "<g class=\"node\" id=\"node4\">\n",
       "<title>4608035976</title>\n",
       "<polygon fill=\"none\" points=\"27.3447,-73.5 27.3447,-109.5 166.6035,-109.5 166.6035,-73.5 27.3447,-73.5\" stroke=\"#000000\"/>\n",
       "<text fill=\"#000000\" font-family=\"Times,serif\" font-size=\"14.00\" text-anchor=\"middle\" x=\"96.9741\" y=\"-87.3\">G: CombineGradients</text>\n",
       "</g>\n",
       "<!-- 4608085800&#45;&gt;4608035976 -->\n",
       "<g class=\"edge\" id=\"edge3\">\n",
       "<title>4608085800-&gt;4608035976</title>\n",
       "<path d=\"M57.0752,-146.4551C63.3181,-137.8564 70.9073,-127.4034 77.784,-117.9316\" fill=\"none\" stroke=\"#000000\"/>\n",
       "<polygon fill=\"#000000\" points=\"80.7971,-119.7388 83.84,-109.5904 75.1326,-115.6262 80.7971,-119.7388\" stroke=\"#000000\"/>\n",
       "</g>\n",
       "<!-- 4608085968&#45;&gt;4608035976 -->\n",
       "<g class=\"edge\" id=\"edge4\">\n",
       "<title>4608085968-&gt;4608035976</title>\n",
       "<path d=\"M136.873,-146.4551C130.6301,-137.8564 123.0409,-127.4034 116.1642,-117.9316\" fill=\"none\" stroke=\"#000000\"/>\n",
       "<polygon fill=\"#000000\" points=\"118.8156,-115.6262 110.1082,-109.5904 113.1511,-119.7388 118.8156,-115.6262\" stroke=\"#000000\"/>\n",
       "</g>\n",
       "<!-- 4608131928 -->\n",
       "<g class=\"node\" id=\"node5\">\n",
       "<title>4608131928</title>\n",
       "<polygon fill=\"none\" points=\"37.8481,-.5 37.8481,-36.5 156.1001,-36.5 156.1001,-.5 37.8481,-.5\" stroke=\"#000000\"/>\n",
       "<text fill=\"#000000\" font-family=\"Times,serif\" font-size=\"14.00\" text-anchor=\"middle\" x=\"96.9741\" y=\"-14.3\">output: Normalize</text>\n",
       "</g>\n",
       "<!-- 4608035976&#45;&gt;4608131928 -->\n",
       "<g class=\"edge\" id=\"edge5\">\n",
       "<title>4608035976-&gt;4608131928</title>\n",
       "<path d=\"M96.9741,-73.4551C96.9741,-65.3828 96.9741,-55.6764 96.9741,-46.6817\" fill=\"none\" stroke=\"#000000\"/>\n",
       "<polygon fill=\"#000000\" points=\"100.4742,-46.5903 96.9741,-36.5904 93.4742,-46.5904 100.4742,-46.5903\" stroke=\"#000000\"/>\n",
       "</g>\n",
       "</g>\n",
       "</svg>"
      ],
      "text/plain": [
       "<IPython.core.display.SVG object>"
      ]
     },
     "execution_count": 12,
     "metadata": {},
     "output_type": "execute_result"
    }
   ],
   "source": [
    "from IPython.display import SVG\n",
    "from keras.utils.vis_utils import model_to_dot\n",
    "SVG(model_to_dot(model).create(prog='dot', format='svg'))"
   ]
  },
  {
   "cell_type": "markdown",
   "metadata": {},
   "source": [
    "#### Let's see what the network has actually learned during the training process\n",
    "\n",
    "The first thing we can notice is that `Gx` is not the transpose of `Gy` which was the case for all first order derivative based algorithms. Also neither `Gx` nor `Gy` are symmetric about central axis. Next thing we can notice is that the network learned that it doesn't need a bias term to detect edges as both bias terms for `Gx` and `Gy` are very close to 0.\n",
    "\n",
    "So, we can see that in order to detect edges one doesn't need to work with derivatives or try to approximate any of the existing operators like Sobel's, Prewitt's, or Robert's."
   ]
  },
  {
   "cell_type": "code",
   "execution_count": 13,
   "metadata": {},
   "outputs": [
    {
     "name": "stdout",
     "output_type": "stream",
     "text": [
      "Filter in X direction (Gx):\n",
      " [[-0.03900059 -0.24562082 -0.19892806]\n",
      " [-0.22675623  0.07740413  0.61262661]\n",
      " [-0.07595865 -0.03728469  0.12737863]]\n",
      "\n",
      "Filter in Y direction (Gy):\n",
      " [[ -5.40832102e-01  -4.37325686e-01   4.53617722e-02]\n",
      " [  3.44081074e-01   4.15887684e-01   4.16389972e-01]\n",
      " [  1.56539813e-01  -4.10680056e-01   1.84701319e-04]]\n",
      "\n",
      "Bias for Gx: 0.000524893\n",
      "Bias for Gy: 0.00834314\n"
     ]
    }
   ],
   "source": [
    "Gx = model.layers[1]\n",
    "Gy = model.layers[2]\n",
    "\n",
    "filterX = np.reshape(Gx.get_weights()[0], newshape=(3, 3))\n",
    "filterY = np.reshape(Gy.get_weights()[0], newshape=(3, 3))\n",
    "print('Filter in X direction (Gx):\\n', filterX)\n",
    "print('\\nFilter in Y direction (Gy):\\n', filterY)\n",
    "print()\n",
    "print('Bias for Gx:', Gx.get_weights()[1][0])\n",
    "print('Bias for Gy:', Gy.get_weights()[1][0])"
   ]
  },
  {
   "cell_type": "markdown",
   "metadata": {},
   "source": [
    "### Evaluation on testing dataset\n",
    "\n",
    "We evaluate the network on testing dataset using MSE (mean squared error)"
   ]
  },
  {
   "cell_type": "code",
   "execution_count": 14,
   "metadata": {},
   "outputs": [],
   "source": [
    "def evaluate(inputs, labels, apply_thresholding=None):\n",
    "    predictions = model.predict(inputs)\n",
    "    \n",
    "    if apply_thresholding:\n",
    "        predictions = [apply_thresholding(prediction) for prediction in predictions]\n",
    "    \n",
    "    labels = np.array(labels) * 255.\n",
    "    predictions = np.array(predictions) * 255.\n",
    "    return ((labels - predictions) ** 2).mean(axis=None)"
   ]
  },
  {
   "cell_type": "code",
   "execution_count": 15,
   "metadata": {},
   "outputs": [
    {
     "name": "stdout",
     "output_type": "stream",
     "text": [
      "Neural Network without thresholding: 1184.28\n",
      "Neural Network with otsu thresholding: 6959.74126808\n"
     ]
    }
   ],
   "source": [
    "print('Neural Network without thresholding:', evaluate(test_input, test_label))\n",
    "print('Neural Network with otsu thresholding:', evaluate(test_input, test_label, global_otsu_thresholding))"
   ]
  },
  {
   "cell_type": "code",
   "execution_count": null,
   "metadata": {},
   "outputs": [],
   "source": []
  }
 ],
 "metadata": {
  "kernelspec": {
   "display_name": "Python 3",
   "language": "python",
   "name": "python3"
  },
  "language_info": {
   "codemirror_mode": {
    "name": "ipython",
    "version": 3
   },
   "file_extension": ".py",
   "mimetype": "text/x-python",
   "name": "python",
   "nbconvert_exporter": "python",
   "pygments_lexer": "ipython3",
   "version": "3.6.3"
  }
 },
 "nbformat": 4,
 "nbformat_minor": 2
}
